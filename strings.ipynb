{
 "cells": [
  {
   "cell_type": "markdown",
   "metadata": {},
   "source": [
    "# string\n",
    "- creating\n",
    "- indexing\n",
    "- slicing\n",
    "- methods"
   ]
  },
  {
   "cell_type": "code",
   "execution_count": 5,
   "metadata": {},
   "outputs": [],
   "source": [
    "# creation\n",
    "a=\"\"''  # empty string\n",
    "name = 'sara' # single quoted\n",
    "city = \"lucknow\" # double quoted\n",
    "message = '''this is an example of multiline string in python, triple quotes allow multiline concept'''\n"
   ]
  },
  {
   "cell_type": "code",
   "execution_count": 3,
   "metadata": {},
   "outputs": [
    {
     "name": "stdout",
     "output_type": "stream",
     "text": [
      "~o~|~o~|~o~|~o~|~o~|~o~|~o~|~o~|~o~|~o~|\n"
     ]
    }
   ],
   "source": [
    "# string duplication\n",
    "decor ='~o~|' *10\n",
    "print(decor)"
   ]
  },
  {
   "cell_type": "code",
   "execution_count": 6,
   "metadata": {},
   "outputs": [
    {
     "data": {
      "text/plain": [
       "'sara_lucknow'"
      ]
     },
     "execution_count": 6,
     "metadata": {},
     "output_type": "execute_result"
    }
   ],
   "source": [
    "# string concatenation\n",
    "name + \"_\" + city"
   ]
  },
  {
   "cell_type": "code",
   "execution_count": 12,
   "metadata": {},
   "outputs": [
    {
     "name": "stdout",
     "output_type": "stream",
     "text": [
      "545355\n",
      "[1, 2, 3]\n",
      "True\n",
      "False\n",
      "23.45\n"
     ]
    }
   ],
   "source": [
    "#casting\n",
    "a= str(545355)\n",
    "b = str([1,2,3])\n",
    "c= str(True)\n",
    "d = str(False)\n",
    "e= str(23.45)\n",
    "print(a)\n",
    "print(b)\n",
    "print(c)\n",
    "print(d)\n",
    "print(e)"
   ]
  },
  {
   "cell_type": "code",
   "execution_count": 14,
   "metadata": {},
   "outputs": [
    {
     "name": "stdout",
     "output_type": "stream",
     "text": [
      "SYNCRONIZED\n",
      "11\n",
      "S\n",
      "O\n",
      "D\n",
      "E\n",
      "I\n",
      "N\n"
     ]
    }
   ],
   "source": [
    "word = 'SYNCRONIZED'                            # string is imutable\n",
    "print(word)\n",
    "print(len(word))\n",
    "print(word[0])  # first \n",
    "print(word[5])\n",
    "print(word[-1])  # last \n",
    "print(word[-2])   # second last\n",
    "print(word[-4])\n",
    "print(word[-5])"
   ]
  },
  {
   "cell_type": "markdown",
   "metadata": {},
   "source": [
    "`slicing`\n",
    "\n",
    "syntax\n",
    "```python\n",
    "\n",
    "var[start: stop]        # start from an index and get slice till stop-1\n",
    "\n",
    "var[start: stop: step]\n",
    "\n",
    "var[: stop]         # start from begining\n",
    "\n",
    "var[start :]           # start from an index stop at the end\n",
    "\n",
    "```"
   ]
  },
  {
   "cell_type": "code",
   "execution_count": 17,
   "metadata": {},
   "outputs": [
    {
     "name": "stdout",
     "output_type": "stream",
     "text": [
      "SYNC\n",
      "SYNC\n",
      "ONI\n",
      "RONIZED\n",
      "YCOIE\n",
      "SNRNZ\n",
      "SNRNZD\n",
      "DEZINORCNYS\n"
     ]
    }
   ],
   "source": [
    "print(word[0:4])\n",
    "print(word[:4])\n",
    "print(word[5:8])\n",
    "print(word[4:])\n",
    "print(word[1:10:2])\n",
    "print(word[:10:2])\n",
    "print(word[::2])                       # all even indexes\n",
    "print(word[::-1])       # reverse"
   ]
  },
  {
   "cell_type": "code",
   "execution_count": 20,
   "metadata": {},
   "outputs": [
    {
     "name": "stdout",
     "output_type": "stream",
     "text": [
      "Vijay\n",
      "Deenanath\n",
      "Chauhan\n"
     ]
    }
   ],
   "source": [
    "name = \"Vijay Deenanath Chauhan\"\n",
    "fname = name[:5]\n",
    "lname = name[-7:]\n",
    "mname = name[6:-8]\n",
    "print(fname)\n",
    "print(mname)\n",
    "print(lname)"
   ]
  },
  {
   "cell_type": "markdown",
   "metadata": {},
   "source": [
    "### String Methods\n",
    "- formatting\n",
    "- validation\n",
    "- utility"
   ]
  },
  {
   "cell_type": "code",
   "execution_count": 4,
   "metadata": {},
   "outputs": [
    {
     "name": "stdout",
     "output_type": "stream",
     "text": [
      "original: Journey before Desttination\n",
      "upper: JOURNEY BEFORE DESTTINATION\n",
      "lower: journey before desttination\n",
      "captialize: Journey before desttination\n",
      "title: Journey Before Desttination\n",
      "swapcase: jOURNEY BEFORE dESTTINATION\n",
      "casefold: journey before desttination\n",
      "JOURNEY BEFORE DESTTINATION\n"
     ]
    }
   ],
   "source": [
    "# formatting\n",
    "quote = \"Journey before Desttination\"\n",
    "print(\"original:\",quote)\n",
    "print(\"upper:\",quote.upper())\n",
    "print(\"lower:\",quote.lower())\n",
    "print(\"captialize:\",quote.capitalize())\n",
    "print(\"title:\",quote.title())\n",
    "print(\"swapcase:\",quote.swapcase())\n",
    "print(\"casefold:\",quote.casefold())\n",
    "\n",
    "quote = quote.upper()\n",
    "print(quote)"
   ]
  },
  {
   "cell_type": "code",
   "execution_count": 5,
   "metadata": {},
   "outputs": [
    {
     "name": "stdout",
     "output_type": "stream",
     "text": [
      "JOURNEY BEFORE DESTTINATION                                                     \n",
      "JOURNEY BEFORE DESTTINATION_____________________________________________________\n",
      "                                                     JOURNEY BEFORE DESTTINATION\n",
      "^^^^^^^^^^^^^^^^^^^^^^^^^^^^^^^^^^^^^^^^^^^^^^^^^^^^^JOURNEY BEFORE DESTTINATION\n",
      "                          JOURNEY BEFORE DESTTINATION                           \n",
      "__________________________JOURNEY BEFORE DESTTINATION___________________________\n"
     ]
    }
   ],
   "source": [
    "print(quote.ljust(80))\n",
    "print(quote.ljust(80,'_'))\n",
    "print(quote.rjust(80,))\n",
    "print(quote.rjust(80, '^'))\n",
    "print(quote.center(80,))\n",
    "print(quote.center(80,'_'))"
   ]
  },
  {
   "cell_type": "code",
   "execution_count": 6,
   "metadata": {},
   "outputs": [
    {
     "name": "stdout",
     "output_type": "stream",
     "text": [
      "True\n",
      "False\n",
      "True\n",
      "False\n",
      "False\n",
      "True\n",
      "True\n",
      "True\n",
      "False\n",
      "False\n",
      "True\n",
      "True\n",
      "False\n"
     ]
    }
   ],
   "source": [
    "# validation\n",
    "print('123'.isdigit())\n",
    "print('1 23'.isdigit())\n",
    "print('apple'.isalpha())\n",
    "print('1apple'.isalpha())\n",
    "print('apple pie'.isalpha())\n",
    "print('apple123'.isalnum())\n",
    "print('123'.isalnum())\n",
    "print('cherry'.isalnum())\n",
    "print('cherry 123'.isalnum())\n",
    "print('cherry 123'.isnumeric())\n",
    "print('123'.isnumeric())\n",
    "print('  '.isspace())\n",
    "print('1 2 3'.isspace())\n"
   ]
  },
  {
   "cell_type": "code",
   "execution_count": 8,
   "metadata": {},
   "outputs": [
    {
     "name": "stdout",
     "output_type": "stream",
     "text": [
      "shabash\n"
     ]
    }
   ],
   "source": [
    "num = input(\"enter number\")\n",
    "if num.isnumeric():\n",
    "    num=int(num)\n",
    "    print(\"shabash\")\n",
    "else:\n",
    "    print(\"go back to kindergarten\")"
   ]
  },
  {
   "cell_type": "code",
   "execution_count": 10,
   "metadata": {},
   "outputs": [
    {
     "name": "stdout",
     "output_type": "stream",
     "text": [
      "True\n",
      "False\n",
      "False\n",
      "True\n",
      "True\n",
      "True\n",
      "False\n"
     ]
    }
   ],
   "source": [
    "print('apple'.startswith('a'))\n",
    "print('apple'.startswith('A'))\n",
    "print('apple'.startswith('b'))\n",
    "print('apple'.endswith('e'))\n",
    "print('book_one_pdf'.startswith('book'))\n",
    "print('book_one_pdf'.endswith('pdf'))\n",
    "print('book_one_pdf'.startswith('one'))"
   ]
  },
  {
   "cell_type": "code",
   "execution_count": 13,
   "metadata": {},
   "outputs": [
    {
     "name": "stdout",
     "output_type": "stream",
     "text": [
      "a.exe\n",
      "b.exe\n",
      "d.exe\n"
     ]
    }
   ],
   "source": [
    "apps =['a.exe','b.exe','c.pdf','d.exe','f.doc']\n",
    "for app in apps:\n",
    "    if app.endswith('.exe'):\n",
    "        print(app)"
   ]
  },
  {
   "cell_type": "code",
   "execution_count": 14,
   "metadata": {},
   "outputs": [
    {
     "name": "stdout",
     "output_type": "stream",
     "text": [
      "8\n",
      "8\n",
      "4\n",
      "21\n",
      "-1\n",
      "20\n",
      "10\n",
      "-1\n"
     ]
    }
   ],
   "source": [
    "# utlitity  - finf,replace,count,strip,split,join\n",
    "\n",
    "#find\n",
    "print(quote.find('B'))\n",
    "print(quote.find('BEFORE'))\n",
    "print(quote.find('N'))\n",
    "print(quote.find('N',5))\n",
    "print(quote.find('I',1,10))\n",
    "print(quote.find('I',))\n",
    "print(quote.find('FORE DE'))\n",
    "print(quote.find('FOREDE'))"
   ]
  },
  {
   "cell_type": "code",
   "execution_count": 3,
   "metadata": {},
   "outputs": [
    {
     "name": "stdout",
     "output_type": "stream",
     "text": [
      "Journey before Desttination\n",
      "Journey before Desttination\n",
      "Journey before Desttination\n",
      "Journey before Desttination\n",
      "Journey before Desttination\n",
      "Journey before Desttination\n"
     ]
    }
   ],
   "source": [
    "#replace\n",
    "quote = \"Journey before Desttination\"\n",
    "print(quote.replace(\"BEFORE\",\"AFTER\"))\n",
    "print(quote.replace('E','A'))\n",
    "print(quote.replace('E','O',2))\n",
    "print(quote.replace('E','^^^^',))\n",
    "\n",
    "quote= quote.replace('JOURNEY','SLEEPING')\n",
    "print(quote)\n",
    "quote=quote.replace('A','X').replace('E','_').replace('I','_')\n",
    "print(quote)"
   ]
  },
  {
   "cell_type": "code",
   "execution_count": 19,
   "metadata": {},
   "outputs": [
    {
     "name": "stdout",
     "output_type": "stream",
     "text": [
      "5\n",
      "3\n",
      "1\n",
      "0\n",
      "3\n"
     ]
    }
   ],
   "source": [
    "words= 'egg spam egg egg spam egg spam bacon egg '\n",
    "print(words.count('egg'))\n",
    "print(words.count('spam'))\n",
    "print(words.count('bacon'))\n",
    "print(words.count('pie'))\n",
    "print(words.count('egg s'))\n"
   ]
  },
  {
   "cell_type": "code",
   "execution_count": 22,
   "metadata": {},
   "outputs": [
    {
     "name": "stdout",
     "output_type": "stream",
     "text": [
      " Alex mason\n",
      "Alex mason\n",
      "\n",
      "\n",
      "    123340\n",
      "\n",
      "    \n",
      "123340\n"
     ]
    }
   ],
   "source": [
    "name =' Alex mason'\n",
    "print(name)\n",
    "print(name.strip())\n",
    "data =  '''\n",
    "\n",
    "    123340\n",
    "\n",
    "    '''\n",
    "print(data)\n",
    "print(data.strip())\n"
   ]
  },
  {
   "cell_type": "code",
   "execution_count": 23,
   "metadata": {},
   "outputs": [
    {
     "name": "stdout",
     "output_type": "stream",
     "text": [
      "\n",
      "\n",
      "    123340\n",
      "\n",
      "    \n"
     ]
    }
   ],
   "source": [
    "data =data.strip()\n",
    "print(data)\n"
   ]
  },
  {
   "cell_type": "code",
   "execution_count": 28,
   "metadata": {},
   "outputs": [
    {
     "name": "stdout",
     "output_type": "stream",
     "text": [
      "['egg', 'spam', 'egg', 'egg', 'spam', 'egg', 'spam', 'bacon', 'egg']\n",
      "['a', 'b', 'c', 'd', 'e']\n",
      "['a', 'b', 'c', 'd', 'e']\n",
      "['johny johny ,yes papa,', 'eating sugar ? no papa,', 'telling lies> no papa,', 'oprn your mouth, ha! ha! ha!']\n"
     ]
    }
   ],
   "source": [
    "# split\n",
    "print(words.split())\n",
    "print('a,b,c,d,e'.split(','))\n",
    "print('a-b-c-d-e'.split('-'))\n",
    "\n",
    "poem = '''\n",
    "johny johny ,yes papa,\n",
    "eating sugar ? no papa,\n",
    "telling lies> no papa,\n",
    "oprn your mouth, ha! ha! ha!\n",
    "'''\n",
    "\n",
    "sentence= poem.strip().splitlines()\n",
    "print(sentence)"
   ]
  },
  {
   "cell_type": "code",
   "execution_count": 29,
   "metadata": {},
   "outputs": [
    {
     "name": "stdout",
     "output_type": "stream",
     "text": [
      "192.168.1.1\n"
     ]
    }
   ],
   "source": [
    "addr = ['192','168','1','1']\n",
    "ip_addr ='.'.join(addr)\n",
    "print(ip_addr)"
   ]
  },
  {
   "cell_type": "code",
   "execution_count": null,
   "metadata": {},
   "outputs": [],
   "source": []
  }
 ],
 "metadata": {
  "kernelspec": {
   "display_name": "base",
   "language": "python",
   "name": "python3"
  },
  "language_info": {
   "codemirror_mode": {
    "name": "ipython",
    "version": 3
   },
   "file_extension": ".py",
   "mimetype": "text/x-python",
   "name": "python",
   "nbconvert_exporter": "python",
   "pygments_lexer": "ipython3",
   "version": "3.12.4"
  }
 },
 "nbformat": 4,
 "nbformat_minor": 2
}
