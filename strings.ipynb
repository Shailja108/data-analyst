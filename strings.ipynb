{
 "cells": [
  {
   "cell_type": "markdown",
   "metadata": {},
   "source": [
    "# string\n",
    "- creating\n",
    "- indexing\n",
    "- slicing\n",
    "- methods"
   ]
  },
  {
   "cell_type": "code",
   "execution_count": 5,
   "metadata": {},
   "outputs": [],
   "source": [
    "# creation\n",
    "a=\"\"''  # empty string\n",
    "name = 'sara' # single quoted\n",
    "city = \"lucknow\" # double quoted\n",
    "message = '''this is an example of multiline string in python, triple quotes allow multiline concept'''\n"
   ]
  },
  {
   "cell_type": "code",
   "execution_count": 3,
   "metadata": {},
   "outputs": [
    {
     "name": "stdout",
     "output_type": "stream",
     "text": [
      "~o~|~o~|~o~|~o~|~o~|~o~|~o~|~o~|~o~|~o~|\n"
     ]
    }
   ],
   "source": [
    "# string duplication\n",
    "decor ='~o~|' *10\n",
    "print(decor)"
   ]
  },
  {
   "cell_type": "code",
   "execution_count": 6,
   "metadata": {},
   "outputs": [
    {
     "data": {
      "text/plain": [
       "'sara_lucknow'"
      ]
     },
     "execution_count": 6,
     "metadata": {},
     "output_type": "execute_result"
    }
   ],
   "source": [
    "# string concatenation\n",
    "name + \"_\" + city"
   ]
  },
  {
   "cell_type": "code",
   "execution_count": 12,
   "metadata": {},
   "outputs": [
    {
     "name": "stdout",
     "output_type": "stream",
     "text": [
      "545355\n",
      "[1, 2, 3]\n",
      "True\n",
      "False\n",
      "23.45\n"
     ]
    }
   ],
   "source": [
    "#casting\n",
    "a= str(545355)\n",
    "b = str([1,2,3])\n",
    "c= str(True)\n",
    "d = str(False)\n",
    "e= str(23.45)\n",
    "print(a)\n",
    "print(b)\n",
    "print(c)\n",
    "print(d)\n",
    "print(e)"
   ]
  },
  {
   "cell_type": "code",
   "execution_count": 14,
   "metadata": {},
   "outputs": [
    {
     "name": "stdout",
     "output_type": "stream",
     "text": [
      "SYNCRONIZED\n",
      "11\n",
      "S\n",
      "O\n",
      "D\n",
      "E\n",
      "I\n",
      "N\n"
     ]
    }
   ],
   "source": [
    "word = 'SYNCRONIZED'                            # string is imutable\n",
    "print(word)\n",
    "print(len(word))\n",
    "print(word[0])  # first \n",
    "print(word[5])\n",
    "print(word[-1])  # last \n",
    "print(word[-2])   # second last\n",
    "print(word[-4])\n",
    "print(word[-5])"
   ]
  },
  {
   "cell_type": "markdown",
   "metadata": {},
   "source": [
    "`slicing`\n",
    "\n",
    "syntax\n",
    "```python\n",
    "\n",
    "var[start: stop]        # start from an index and get slice till stop-1\n",
    "\n",
    "var[start: stop: step]\n",
    "\n",
    "var[: stop]         # start from begining\n",
    "\n",
    "var[start :]           # start from an index stop at the end\n",
    "\n",
    "```"
   ]
  },
  {
   "cell_type": "code",
   "execution_count": 17,
   "metadata": {},
   "outputs": [
    {
     "name": "stdout",
     "output_type": "stream",
     "text": [
      "SYNC\n",
      "SYNC\n",
      "ONI\n",
      "RONIZED\n",
      "YCOIE\n",
      "SNRNZ\n",
      "SNRNZD\n",
      "DEZINORCNYS\n"
     ]
    }
   ],
   "source": [
    "print(word[0:4])\n",
    "print(word[:4])\n",
    "print(word[5:8])\n",
    "print(word[4:])\n",
    "print(word[1:10:2])\n",
    "print(word[:10:2])\n",
    "print(word[::2])                       # all even indexes\n",
    "print(word[::-1])       # reverse"
   ]
  },
  {
   "cell_type": "code",
   "execution_count": 20,
   "metadata": {},
   "outputs": [
    {
     "name": "stdout",
     "output_type": "stream",
     "text": [
      "Vijay\n",
      "Deenanath\n",
      "Chauhan\n"
     ]
    }
   ],
   "source": [
    "name = \"Vijay Deenanath Chauhan\"\n",
    "fname = name[:5]\n",
    "lname = name[-7:]\n",
    "mname = name[6:-8]\n",
    "print(fname)\n",
    "print(mname)\n",
    "print(lname)"
   ]
  },
  {
   "cell_type": "code",
   "execution_count": null,
   "metadata": {},
   "outputs": [],
   "source": []
  }
 ],
 "metadata": {
  "kernelspec": {
   "display_name": "base",
   "language": "python",
   "name": "python3"
  },
  "language_info": {
   "codemirror_mode": {
    "name": "ipython",
    "version": 3
   },
   "file_extension": ".py",
   "mimetype": "text/x-python",
   "name": "python",
   "nbconvert_exporter": "python",
   "pygments_lexer": "ipython3",
   "version": "3.12.4"
  }
 },
 "nbformat": 4,
 "nbformat_minor": 2
}
