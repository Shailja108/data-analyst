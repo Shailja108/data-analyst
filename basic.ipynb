{
 "cells": [
  {
   "cell_type": "markdown",
   "metadata": {},
   "source": [
    "## basics \n",
    "\n",
    "- variables\n",
    "- operators\n",
    "- datatypes\n",
    "- input/output"
   ]
  },
  {
   "cell_type": "markdown",
   "metadata": {},
   "source": []
  },
  {
   "cell_type": "code",
   "execution_count": 1,
   "metadata": {},
   "outputs": [],
   "source": [
    "x=3\n",
    "a , b = 11, 12\n",
    "c=a+b\n",
    " "
   ]
  },
  {
   "cell_type": "code",
   "execution_count": 2,
   "metadata": {},
   "outputs": [],
   "source": [
    "l=5\n",
    "b= 4\n",
    "area = l*b"
   ]
  },
  {
   "cell_type": "code",
   "execution_count": 3,
   "metadata": {},
   "outputs": [],
   "source": [
    "p= 300\n",
    "r=5\n",
    "t=2\n",
    "si=p*r*t\n"
   ]
  },
  {
   "cell_type": "code",
   "execution_count": 4,
   "metadata": {},
   "outputs": [],
   "source": [
    "del x"
   ]
  },
  {
   "cell_type": "code",
   "execution_count": 5,
   "metadata": {},
   "outputs": [],
   "source": [
    "a= 1.23457"
   ]
  },
  {
   "cell_type": "markdown",
   "metadata": {},
   "source": [
    "# operators\n",
    "- assisgnment\n",
    "- arithmetic\n",
    "- comparison\n",
    "- logical\n",
    "- membership\n",
    "- identity"
   ]
  },
  {
   "cell_type": "code",
   "execution_count": 7,
   "metadata": {},
   "outputs": [],
   "source": [
    "# assisgnment = += -= *= /= etc\n",
    "\n",
    "x= 10\n",
    "x += 5\n",
    "x -= 2\n",
    "x *=3\n",
    "x /=3"
   ]
  },
  {
   "cell_type": "code",
   "execution_count": 8,
   "metadata": {},
   "outputs": [],
   "source": [
    "# arithmetic + - = / % ** //\n",
    "\n",
    "a=10\n",
    "b=3"
   ]
  },
  {
   "cell_type": "code",
   "execution_count": 9,
   "metadata": {},
   "outputs": [
    {
     "data": {
      "text/plain": [
       "13"
      ]
     },
     "execution_count": 9,
     "metadata": {},
     "output_type": "execute_result"
    }
   ],
   "source": [
    "a+b"
   ]
  },
  {
   "cell_type": "code",
   "execution_count": 10,
   "metadata": {},
   "outputs": [
    {
     "data": {
      "text/plain": [
       "7"
      ]
     },
     "execution_count": 10,
     "metadata": {},
     "output_type": "execute_result"
    }
   ],
   "source": [
    "a-b"
   ]
  },
  {
   "cell_type": "code",
   "execution_count": 11,
   "metadata": {},
   "outputs": [
    {
     "data": {
      "text/plain": [
       "30"
      ]
     },
     "execution_count": 11,
     "metadata": {},
     "output_type": "execute_result"
    }
   ],
   "source": [
    "a*b"
   ]
  },
  {
   "cell_type": "code",
   "execution_count": 12,
   "metadata": {},
   "outputs": [
    {
     "data": {
      "text/plain": [
       "3.3333333333333335"
      ]
     },
     "execution_count": 12,
     "metadata": {},
     "output_type": "execute_result"
    }
   ],
   "source": [
    "a/b"
   ]
  },
  {
   "cell_type": "code",
   "execution_count": 13,
   "metadata": {},
   "outputs": [
    {
     "data": {
      "text/plain": [
       "1000"
      ]
     },
     "execution_count": 13,
     "metadata": {},
     "output_type": "execute_result"
    }
   ],
   "source": [
    "a**b   # exponentiation"
   ]
  },
  {
   "cell_type": "code",
   "execution_count": 14,
   "metadata": {},
   "outputs": [
    {
     "data": {
      "text/plain": [
       "3"
      ]
     },
     "execution_count": 14,
     "metadata": {},
     "output_type": "execute_result"
    }
   ],
   "source": [
    "a//b  # integer division "
   ]
  },
  {
   "cell_type": "code",
   "execution_count": 15,
   "metadata": {},
   "outputs": [
    {
     "data": {
      "text/plain": [
       "1"
      ]
     },
     "execution_count": 15,
     "metadata": {},
     "output_type": "execute_result"
    }
   ],
   "source": [
    "a%b  # remainder(modulo)"
   ]
  },
  {
   "cell_type": "code",
   "execution_count": 17,
   "metadata": {},
   "outputs": [
    {
     "name": "stdout",
     "output_type": "stream",
     "text": [
      "False\n",
      "True\n",
      "False\n",
      "True\n",
      "False\n",
      "True\n"
     ]
    }
   ],
   "source": [
    "# comparison < > <= >= == !=\n",
    "x=20\n",
    "y=12\n",
    "\n",
    "print(x<y)\n",
    "print(x>y)\n",
    "print(x>=50)\n",
    "print(x<=50)\n",
    "print(x==50)\n",
    "print(x!=50)"
   ]
  },
  {
   "cell_type": "code",
   "execution_count": 20,
   "metadata": {},
   "outputs": [
    {
     "name": "stdout",
     "output_type": "stream",
     "text": [
      "False\n",
      "False\n",
      "True\n",
      "True\n",
      "False\n",
      "True\n"
     ]
    }
   ],
   "source": [
    "# logical ->  and or not \n",
    "print(x>10 and y>50)\n",
    "print(x<10 and y<50)\n",
    "print(x>10 or y>50)\n",
    "print(x<10 or y<50)\n",
    "print(not x>5)\n",
    "print(not x<5)"
   ]
  },
  {
   "cell_type": "code",
   "execution_count": 21,
   "metadata": {},
   "outputs": [
    {
     "name": "stdout",
     "output_type": "stream",
     "text": [
      "True\n",
      "False\n",
      "False\n",
      "True\n"
     ]
    }
   ],
   "source": [
    "# membership  -> in , not in \n",
    "r= [1,2,3,4,5,6,7,8,]\n",
    "print(5 in r)\n",
    "print(2 not in r)\n",
    "print(10 in r)\n",
    "print(10 not in r)"
   ]
  },
  {
   "cell_type": "code",
   "execution_count": 22,
   "metadata": {},
   "outputs": [
    {
     "name": "stdout",
     "output_type": "stream",
     "text": [
      "True\n",
      "False\n",
      "False\n"
     ]
    }
   ],
   "source": [
    "# identity -> is , is not\n",
    "a=[1,2,3,4]\n",
    "b=a\n",
    "c=[1,2,3,4]\n",
    "print(a is b)\n",
    "print(a is c)\n",
    "print(b is c)"
   ]
  },
  {
   "cell_type": "markdown",
   "metadata": {},
   "source": [
    "# datatypes\n",
    "- int\n",
    "- float (real number)\n",
    "- bool\n",
    "- str\n",
    "- none\n",
    "- list\n",
    "- tuple\n",
    "- set\n",
    "- dict(dictionary)"
   ]
  },
  {
   "cell_type": "code",
   "execution_count": 25,
   "metadata": {},
   "outputs": [],
   "source": [
    "num= 5\n",
    "name = \"shailja\"\n",
    "pi = 3.14159                           \n",
    "sleepy =True                            \n",
    "data = None\n",
    "a_list = [1,2,3,4,5]\n",
    "a_tuple = (1,2,3,4,5)\n",
    "a_set ={1,2,3,4,5}\n",
    "a_dict = {'a': 10,'b':20} "
   ]
  },
  {
   "cell_type": "markdown",
   "metadata": {},
   "source": [
    "# displaying output and getting input"
   ]
  },
  {
   "cell_type": "code",
   "execution_count": 4,
   "metadata": {},
   "outputs": [
    {
     "name": "stdout",
     "output_type": "stream",
     "text": [
      "\n",
      "hello\n",
      "example string\n",
      "example print() with multiple arrugements\n",
      "example_print()_with_multiple_arrugements\n",
      "exampleprint()withmultiplearrugements\n",
      "c:/users/shailja/desktop\n"
     ]
    }
   ],
   "source": [
    "print()\n",
    "print('hello')\n",
    "print('example string')\n",
    "print('example','print()','with','multiple','arrugements')\n",
    "print('example','print()','with','multiple','arrugements',sep='_')\n",
    "print('example','print()','with','multiple','arrugements',sep='')\n",
    "print('c:','users','shailja','desktop',sep='/')"
   ]
  },
  {
   "cell_type": "code",
   "execution_count": 5,
   "metadata": {},
   "outputs": [
    {
     "name": "stdout",
     "output_type": "stream",
     "text": [
      "['apple', 'tomato', 'cherry']\n",
      "apple\n",
      "tomato\n",
      "cherry\n"
     ]
    }
   ],
   "source": [
    "fruits=['apple','tomato','cherry']\n",
    "print(fruits)\n",
    "print(*fruits,sep='\\n')"
   ]
  },
  {
   "cell_type": "markdown",
   "metadata": {},
   "source": [
    "### displaying content with variables"
   ]
  },
  {
   "cell_type": "code",
   "execution_count": 7,
   "metadata": {},
   "outputs": [
    {
     "name": "stdout",
     "output_type": "stream",
     "text": [
      "result => 10 + 20 = 30\n",
      "result => 10 + 20 = 30\n"
     ]
    }
   ],
   "source": [
    "a, b, = 10, 20\n",
    "c= a+b\n",
    "# result => 10+20=30\n",
    "print('result =>', a, '+',b,'=',c)   # comma seperated\n",
    "print(f'result => {a} + {b} = {c}')   # f-string"
   ]
  },
  {
   "cell_type": "code",
   "execution_count": 9,
   "metadata": {},
   "outputs": [
    {
     "data": {
      "text/plain": [
       "4455"
      ]
     },
     "execution_count": 9,
     "metadata": {},
     "output_type": "execute_result"
    }
   ],
   "source": [
    "input()\n",
    "int(input())"
   ]
  },
  {
   "cell_type": "code",
   "execution_count": 10,
   "metadata": {},
   "outputs": [
    {
     "name": "stdout",
     "output_type": "stream",
     "text": [
      "so you are,alex, i have been expecting you\n"
     ]
    }
   ],
   "source": [
    "x= int(input())\n",
    "name = input(\"who are you?\")\n",
    "print(f\"so you are,{name}, i have been expecting you\")"
   ]
  },
  {
   "cell_type": "code",
   "execution_count": 11,
   "metadata": {},
   "outputs": [
    {
     "name": "stdout",
     "output_type": "stream",
     "text": [
      "simple interest calculation\n",
      "principal => 12000\n",
      "rate of interest => 3.52\n",
      "time(yrs) => 10\n",
      "------------------------------\n",
      "simple interest will be => 4224.0\n"
     ]
    }
   ],
   "source": [
    "p = int(input(\"Enter the principal amount:\"))\n",
    "r=float(input(\"Enter the rate of amount: \"))\n",
    "t=int(input(\"Enter the time in years:\"))\n",
    "si= p*r*t/100\n",
    "print(\"simple interest calculation\")\n",
    "print(f'principal => {p}')\n",
    "print(f'rate of interest => {r}')\n",
    "print(f'time(yrs) => {t}')\n",
    "print(\"---\"*10)\n",
    "print(f'simple interest will be => {si}')"
   ]
  },
  {
   "cell_type": "markdown",
   "metadata": {},
   "source": [
    "alignment and formatting"
   ]
  },
  {
   "cell_type": "code",
   "execution_count": 12,
   "metadata": {},
   "outputs": [
    {
     "name": "stdout",
     "output_type": "stream",
     "text": [
      "journey\n",
      "journey\n",
      "        journey\n",
      "    journey    \n",
      "1200.3445534353452\n",
      "1200.3445534353452\n",
      "1200.3445534353452\n",
      "1200.3445534353452\n",
      "       1,200.34\n",
      "1200.345\n"
     ]
    }
   ],
   "source": [
    "word =  'journey'\n",
    "print(word)\n",
    "print(f\"{word}\")\n",
    "print(f\"{word:>15}\")        # right align\n",
    "print(f\"{word:^15}\")        # centre align\n",
    "num =1200.3445534353453454\n",
    "print(f\"{num}\")\n",
    "print(f\"{num:15}\")\n",
    "print(f\"{num:<15}\")\n",
    "print(f\"{num:^15}\")\n",
    "print(f\"{num:15,.2f}\")\n",
    "print(f\"{num:.3f}\")"
   ]
  },
  {
   "cell_type": "code",
   "execution_count": 28,
   "metadata": {},
   "outputs": [
    {
     "name": "stdout",
     "output_type": "stream",
     "text": [
      "simple interest calculation\n",
      "------------------------------------------------------------\n",
      "principal =>                     12000\n",
      "rate of interest =>               3.52\n",
      "time(yrs) =>                        10\n",
      "------------------------------------------------------------\n",
      "simple interest will be =>      4224.0\n"
     ]
    }
   ],
   "source": [
    "\n",
    "print(\"simple interest calculation\")\n",
    "print(\"---\"*20)\n",
    "print(f'principal => {p:25}')\n",
    "print(f'rate of interest => {r:18}')\n",
    "print(f'time(yrs) => {t:25}')\n",
    "print(\"---\"*20)\n",
    "print(f'simple interest will be => {si:11}')"
   ]
  },
  {
   "cell_type": "code",
   "execution_count": 34,
   "metadata": {},
   "outputs": [
    {
     "name": "stdout",
     "output_type": "stream",
     "text": [
      "volume of a square\n",
      "------------------------------------------------------------\n",
      "side =>                      5\n",
      "volume =>                  125\n"
     ]
    }
   ],
   "source": [
    "# volume of a square\n",
    "side= int(input(\"enter side\"))\n",
    "volume =side*side*side\n",
    "print(\"volume of a square\")\n",
    "print(\"---\"*20)\n",
    "print(f\"side => {side:22}\")\n",
    "print(f\"volume => {volume:20}\")\n"
   ]
  },
  {
   "cell_type": "code",
   "execution_count": null,
   "metadata": {},
   "outputs": [],
   "source": []
  }
 ],
 "metadata": {
  "kernelspec": {
   "display_name": "base",
   "language": "python",
   "name": "python3"
  },
  "language_info": {
   "codemirror_mode": {
    "name": "ipython",
    "version": 3
   },
   "file_extension": ".py",
   "mimetype": "text/x-python",
   "name": "python",
   "nbconvert_exporter": "python",
   "pygments_lexer": "ipython3",
   "version": "3.12.4"
  }
 },
 "nbformat": 4,
 "nbformat_minor": 2
}
