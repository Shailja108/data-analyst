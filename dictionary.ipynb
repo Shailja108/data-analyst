{
 "cells": [
  {
   "cell_type": "markdown",
   "metadata": {},
   "source": [
    "# Data Structure - dictionary\n",
    "- ordered\n",
    "- mutable\n",
    "- key-value pairs (unindexed) \n",
    "- keys are unique\n",
    "- values can be any data type\n",
    "- keys should be immutable (`int`,`float`,`string`,`tupl`)\n",
    "- keys are case-sensitive\n",
    "- represented with`{}`\n",
    "- `dict()` is used to make dictionary"
   ]
  },
  {
   "cell_type": "code",
   "execution_count": 1,
   "metadata": {},
   "outputs": [
    {
     "name": "stdout",
     "output_type": "stream",
     "text": [
      "{} {'apples': 50, 'orange': 25} {'almond': 200, 'walnut': 100}\n"
     ]
    }
   ],
   "source": [
    "a= {}\n",
    "\n",
    "b={'apples':50, 'orange':25}\n",
    "\n",
    "c= dict(almond=200, walnut=100)\n",
    "print(a,b,c)"
   ]
  },
  {
   "cell_type": "code",
   "execution_count": 3,
   "metadata": {},
   "outputs": [
    {
     "name": "stdout",
     "output_type": "stream",
     "text": [
      "{'K1': {'k11': 5, 'k12': 10}, 'k2': {'k21': 15, 'k22': 20}}\n"
     ]
    }
   ],
   "source": [
    "d={\"K1\":{\n",
    "    \"k11\":5,\n",
    "    \"k12\":10 \n",
    "},\n",
    "\"k2\":{\n",
    "    \"k21\":15,\n",
    "    \"k22\":20\n",
    "}}\n",
    "print(d)"
   ]
  },
  {
   "cell_type": "code",
   "execution_count": 4,
   "metadata": {},
   "outputs": [
    {
     "name": "stdout",
     "output_type": "stream",
     "text": [
      "50\n",
      "50\n",
      "50\n",
      "50\n",
      "50\n"
     ]
    }
   ],
   "source": [
    "print(b['apples'])\n",
    "print(b.get('apples'))\n",
    "print(b.get('apples','not found'))  # default value\n",
    "print(b.get('apples'))\n",
    "print(b.get('apples','not found'))"
   ]
  },
  {
   "cell_type": "code",
   "execution_count": 5,
   "metadata": {},
   "outputs": [
    {
     "name": "stdout",
     "output_type": "stream",
     "text": [
      "{'apples': 50, 'orange': 25, 'mango': 10, 'dates': 5, 'peach': 10}\n"
     ]
    }
   ],
   "source": [
    "# add/update values\n",
    "\n",
    "b['mango']=10   # add\n",
    "b['dates']=5   #add\n",
    "b['peach']=10  #add\n",
    "b['apples']=50   #update (existing key used)\n",
    "print(b)"
   ]
  },
  {
   "cell_type": "code",
   "execution_count": 6,
   "metadata": {},
   "outputs": [
    {
     "name": "stdout",
     "output_type": "stream",
     "text": [
      "{'apples': 50, 'orange': 25, 'dates': 5, 'peach': 10}\n"
     ]
    }
   ],
   "source": [
    "#remove\n",
    "b.pop('mango')\n",
    "print(b)"
   ]
  },
  {
   "cell_type": "code",
   "execution_count": 11,
   "metadata": {},
   "outputs": [
    {
     "name": "stdout",
     "output_type": "stream",
     "text": [
      "apples 50\n",
      "orange 25\n",
      "dates 5\n",
      "peach 10\n",
      "apples 50\n",
      "orange 25\n",
      "dates 5\n",
      "peach 10\n",
      "50\n",
      "25\n",
      "5\n",
      "10\n"
     ]
    }
   ],
   "source": [
    "#traversal\n",
    "# style 1\n",
    "for key in b:\n",
    "    print(key,b[key])\n",
    "\n",
    "# style 2\n",
    "for k,v in b.items():\n",
    "    print(k,v)\n",
    "\n",
    "# style 3\n",
    "for v in b.values():\n",
    "    print(v)"
   ]
  },
  {
   "cell_type": "code",
   "execution_count": 12,
   "metadata": {},
   "outputs": [
    {
     "data": {
      "text/plain": [
       "dict_keys(['apples', 'orange', 'dates', 'peach'])"
      ]
     },
     "execution_count": 12,
     "metadata": {},
     "output_type": "execute_result"
    }
   ],
   "source": [
    "b.keys()"
   ]
  },
  {
   "cell_type": "code",
   "execution_count": null,
   "metadata": {},
   "outputs": [],
   "source": []
  }
 ],
 "metadata": {
  "kernelspec": {
   "display_name": "base",
   "language": "python",
   "name": "python3"
  },
  "language_info": {
   "codemirror_mode": {
    "name": "ipython",
    "version": 3
   },
   "file_extension": ".py",
   "mimetype": "text/x-python",
   "name": "python",
   "nbconvert_exporter": "python",
   "pygments_lexer": "ipython3",
   "version": "3.12.4"
  }
 },
 "nbformat": 4,
 "nbformat_minor": 2
}
