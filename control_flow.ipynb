{
 "cells": [
  {
   "cell_type": "markdown",
   "metadata": {},
   "source": [
    "# control flow\n",
    "\n",
    "### condition\n",
    "\n",
    "- if\n",
    "\n",
    "- if else\n",
    "\n",
    "- if elif ladder\n",
    "\n",
    "- match case\n",
    "\n",
    "- nested if \n",
    "\n",
    "### loops\n",
    "\n",
    "- for loop\n",
    "\n",
    "- while loop"
   ]
  },
  {
   "cell_type": "code",
   "execution_count": 4,
   "metadata": {},
   "outputs": [
    {
     "name": "stdout",
     "output_type": "stream",
     "text": [
      "👻 ver nice\n",
      "🐞🪲 no bugs here\n",
      "name exists\n"
     ]
    }
   ],
   "source": [
    "x= 10\n",
    "if x>=5:\n",
    "    print(\"👻 ver nice\")\n",
    "\n",
    "y=2\n",
    "if x>5 and y<5:\n",
    "    print(\"🐞🪲 no bugs here\")\n",
    "\n",
    "name = \" Alex\"\n",
    "if name:\n",
    "    print(\"name exists\")"
   ]
  },
  {
   "cell_type": "code",
   "execution_count": 5,
   "metadata": {},
   "outputs": [
    {
     "name": "stdout",
     "output_type": "stream",
     "text": [
      "a is not empty\n"
     ]
    }
   ],
   "source": [
    "a= 'apple'\n",
    "if len(a):\n",
    "    print(\"a is not empty\")\n",
    "\n",
    "else:\n",
    "    print(\"a is empty\")"
   ]
  },
  {
   "cell_type": "code",
   "execution_count": 1,
   "metadata": {},
   "outputs": [
    {
     "name": "stdout",
     "output_type": "stream",
     "text": [
      "B is the greatest \n"
     ]
    }
   ],
   "source": [
    "# if elif ladder\n",
    "\n",
    "a=4\n",
    "b=6\n",
    "c=2\n",
    "if a>b and a>c:\n",
    "    print('A is the greatest')\n",
    "elif b>c and b>a:\n",
    "    print('B is the greatest ')\n",
    "else:\n",
    "    print('C is the greatest ')"
   ]
  },
  {
   "cell_type": "code",
   "execution_count": 2,
   "metadata": {},
   "outputs": [
    {
     "name": "stdout",
     "output_type": "stream",
     "text": [
      "students marks = 77\n",
      "students grade = B\n"
     ]
    }
   ],
   "source": [
    "marks= int(input(\"enter the marks\"))\n",
    "if marks>=90:\n",
    "    grade=\"A\"\n",
    "elif marks>=75:\n",
    "    grade=\"B\"\n",
    "elif marks>=60:\n",
    "    grade=\"C\"\n",
    "elif marks>50:\n",
    "    grade=\"D\"\n",
    "else:\n",
    "    grade=\"F\"\n",
    "print(f\"students marks = {marks}\")\n",
    "print(f\"students grade = {grade}\")"
   ]
  },
  {
   "cell_type": "code",
   "execution_count": 4,
   "metadata": {},
   "outputs": [
    {
     "name": "stdout",
     "output_type": "stream",
     "text": [
      "This is Free India\n"
     ]
    }
   ],
   "source": [
    "# match case\n",
    "\n",
    "ans = input(\"What is the Capital of India?\")\n",
    "match ans:\n",
    "    case 'Lucknow'|'lucknow':\n",
    "        print(\"You are too Stupid\")\n",
    "    case 'Delhi'| 'delhi':\n",
    "        print(\"You are Correct\")\n",
    "    case 'Culcutta'|'culutta':\n",
    "        print(\"You must be under a stone\")\n",
    "    case 'Shimla'|'shimla':\n",
    "        print(\"This is Free India\")\n",
    "    case _:\n",
    "        print(\"You are not from India\")"
   ]
  },
  {
   "cell_type": "code",
   "execution_count": 6,
   "metadata": {},
   "outputs": [
    {
     "name": "stdout",
     "output_type": "stream",
     "text": [
      "Chai ki dukaan\n",
      "1. Chai 10 Rs\n",
      "2. Bun Makkhan 30 Rs \n",
      "3. Cutting 5 Rs\n",
      "4. Samosa 10 Rs\n",
      "You have selected Cutting\n"
     ]
    }
   ],
   "source": [
    "print(\"Chai ki dukaan\")\n",
    "print(\"1. Chai 10 Rs\")\n",
    "print(\"2. Bun Makkhan 30 Rs \")\n",
    "print(\"3. Cutting 5 Rs\")\n",
    "print(\"4. Samosa 10 Rs\")\n",
    "choice = int(input(\"Enter your choice\"))\n",
    "match choice:\n",
    "    case 1:\n",
    "        print(\"You have selected Chai\")\n",
    "    case 2:\n",
    "        print(\"You have selected Bun Makkhan\")\n",
    "    case 3:\n",
    "        print(\"You have selected Cutting\")\n",
    "    case 4:\n",
    "        print(\"You have selected Samosa\")\n",
    "    case _:\n",
    "        print(\"kahi aur jao bhaiya\")"
   ]
  },
  {
   "cell_type": "markdown",
   "metadata": {},
   "source": [
    "## loops\n",
    "- step based loop (for loop)\n",
    "- condition based loop (while loop)"
   ]
  },
  {
   "cell_type": "code",
   "execution_count": 1,
   "metadata": {},
   "outputs": [
    {
     "name": "stdout",
     "output_type": "stream",
     "text": [
      "1\n",
      "2\n",
      "3\n",
      "4\n",
      "5\n",
      "6\n"
     ]
    }
   ],
   "source": [
    "numbers = [1,2,3,4,5,6]\n",
    "for i in numbers:\n",
    "    print(i)"
   ]
  },
  {
   "cell_type": "code",
   "execution_count": 2,
   "metadata": {},
   "outputs": [
    {
     "name": "stdout",
     "output_type": "stream",
     "text": [
      "sony\n",
      "apple\n",
      "lenovo\n",
      "samsung\n"
     ]
    }
   ],
   "source": [
    "brands = ['sony', 'apple','lenovo','samsung' ]\n",
    "for name in brands:\n",
    "    print(name)"
   ]
  },
  {
   "cell_type": "markdown",
   "metadata": {},
   "source": [
    "iterable\n",
    "- list\n",
    "- str\n",
    "- tuple\n",
    "- set\n",
    "- dict\n",
    "- generator\n",
    "- range\n"
   ]
  },
  {
   "cell_type": "code",
   "execution_count": 4,
   "metadata": {},
   "outputs": [
    {
     "name": "stdout",
     "output_type": "stream",
     "text": [
      "j\n",
      "o\n",
      "u\n",
      "r\n",
      "n\n",
      "e\n",
      "y\n"
     ]
    }
   ],
   "source": [
    "word = 'journey'\n",
    "for char in word:\n",
    "    print(char)"
   ]
  },
  {
   "cell_type": "code",
   "execution_count": 5,
   "metadata": {},
   "outputs": [
    {
     "name": "stdout",
     "output_type": "stream",
     "text": [
      "88\n",
      "67\n",
      "12\n",
      "7\n"
     ]
    }
   ],
   "source": [
    "for i in {12,67,7,88}:\n",
    "    print(i)"
   ]
  },
  {
   "cell_type": "markdown",
   "metadata": {},
   "source": [
    "` range` function for the `for loop`\n",
    "\n",
    "`range(stop)` - 0  to stop-1\n",
    "\n",
    "`range(start, stop)`-start to stop-1\n",
    "\n",
    "`range(start, stop ,step)`- start to stop-1 with step"
   ]
  },
  {
   "cell_type": "code",
   "execution_count": 8,
   "metadata": {},
   "outputs": [
    {
     "name": "stdout",
     "output_type": "stream",
     "text": [
      "0  1  2  3  4  5  6  7  8  9  "
     ]
    }
   ],
   "source": [
    "for i in range(10):\n",
    "    print(i,end='  ')\n"
   ]
  },
  {
   "cell_type": "code",
   "execution_count": 9,
   "metadata": {},
   "outputs": [
    {
     "name": "stdout",
     "output_type": "stream",
     "text": [
      "5  6  7  8  9  10  "
     ]
    }
   ],
   "source": [
    "for i in range(5,11):\n",
    "    print(i,end='  ')"
   ]
  },
  {
   "cell_type": "code",
   "execution_count": 10,
   "metadata": {},
   "outputs": [
    {
     "name": "stdout",
     "output_type": "stream",
     "text": [
      "10 9 8 7 6 5 4 3 2 1 "
     ]
    }
   ],
   "source": [
    "# reverse loop\n",
    "\n",
    "for i in range(10,0,-1):\n",
    "    print(i,end=' ')"
   ]
  },
  {
   "cell_type": "code",
   "execution_count": 11,
   "metadata": {},
   "outputs": [
    {
     "name": "stdout",
     "output_type": "stream",
     "text": [
      "5 7 9 11 13 "
     ]
    }
   ],
   "source": [
    "for i in range(5,15,2):\n",
    "    print(i,end=' ')"
   ]
  },
  {
   "cell_type": "code",
   "execution_count": 13,
   "metadata": {},
   "outputs": [
    {
     "name": "stdout",
     "output_type": "stream",
     "text": [
      "-5 -4 -3 -2 -1 0 1 2 3 4 5 "
     ]
    }
   ],
   "source": [
    "for i in range(-5,6):\n",
    "    print(i,end=' ')"
   ]
  },
  {
   "cell_type": "code",
   "execution_count": 20,
   "metadata": {},
   "outputs": [
    {
     "name": "stdout",
     "output_type": "stream",
     "text": [
      "4950\n"
     ]
    }
   ],
   "source": [
    "# sum of all numbers from 1-100\n",
    "total=0\n",
    "for i in range(1,100,1):\n",
    "    total=total+i\n",
    "print(total)"
   ]
  },
  {
   "cell_type": "code",
   "execution_count": 21,
   "metadata": {},
   "outputs": [
    {
     "data": {
      "text/plain": [
       "5050"
      ]
     },
     "execution_count": 21,
     "metadata": {},
     "output_type": "execute_result"
    }
   ],
   "source": [
    "sum(list(range(1,101)))"
   ]
  },
  {
   "cell_type": "code",
   "execution_count": 29,
   "metadata": {},
   "outputs": [
    {
     "name": "stdout",
     "output_type": "stream",
     "text": [
      "maniratnam\n"
     ]
    }
   ],
   "source": [
    "# find the largest word in the list\n",
    "words= ['ben','satyam','roy','soham','maniratnam']\n",
    "word =''\n",
    "for item in words:\n",
    "    #print(f'{word}={len(word)} and {item}={len{item}}')\n",
    "    if len(item)>len(word):\n",
    "        word=item\n",
    "\n",
    "print(word)\n"
   ]
  },
  {
   "cell_type": "markdown",
   "metadata": {},
   "source": [
    "break and continue"
   ]
  },
  {
   "cell_type": "code",
   "execution_count": 34,
   "metadata": {},
   "outputs": [
    {
     "name": "stdout",
     "output_type": "stream",
     "text": [
      "0 1 2 3 4 The End\n"
     ]
    }
   ],
   "source": [
    "for i in range(10):\n",
    "    if i ==5:\n",
    "        break\n",
    "    print(i, end=' ')\n",
    "print(\"The End\")"
   ]
  },
  {
   "cell_type": "code",
   "execution_count": 31,
   "metadata": {},
   "outputs": [
    {
     "name": "stdout",
     "output_type": "stream",
     "text": [
      "1\n",
      "2\n",
      "3\n",
      "We found some crap\n"
     ]
    }
   ],
   "source": [
    "data = [1,2,3,0,4,5,6,7,7]\n",
    "for i in data:\n",
    "    if i==0:\n",
    "        print(\"We found some crap\")\n",
    "        break\n",
    "    print(i)"
   ]
  },
  {
   "cell_type": "code",
   "execution_count": 32,
   "metadata": {},
   "outputs": [
    {
     "name": "stdout",
     "output_type": "stream",
     "text": [
      "1\n",
      "4\n",
      "9\n",
      "16\n",
      "25\n",
      "36\n",
      "49\n",
      "49\n"
     ]
    }
   ],
   "source": [
    "data = [1,2,3,0,4,5,6,7,7]\n",
    "for i in data:\n",
    "    if i==0:\n",
    "        continue\n",
    "    print(i**2)"
   ]
  },
  {
   "cell_type": "markdown",
   "metadata": {},
   "source": [
    "`enumerate()` , `zip()`"
   ]
  },
  {
   "cell_type": "code",
   "execution_count": 39,
   "metadata": {},
   "outputs": [
    {
     "name": "stdout",
     "output_type": "stream",
     "text": [
      "0 apple\n",
      "1 banana\n",
      "2 mango\n",
      "3 kiwi\n",
      "4 orange\n"
     ]
    }
   ],
   "source": [
    "fruits=['apple','banana','mango','kiwi','orange']\n",
    "for idx,name in enumerate(fruits):\n",
    "    print(idx,name)"
   ]
  },
  {
   "cell_type": "code",
   "execution_count": 40,
   "metadata": {},
   "outputs": [
    {
     "name": "stdout",
     "output_type": "stream",
     "text": [
      "0\n",
      "46\n",
      "150\n",
      "108\n",
      "448\n"
     ]
    }
   ],
   "source": [
    "numbers=[33,46,75,36,112]\n",
    "for idx,num in enumerate(numbers):\n",
    "    print(num*idx)"
   ]
  },
  {
   "cell_type": "code",
   "execution_count": 43,
   "metadata": {},
   "outputs": [
    {
     "name": "stdout",
     "output_type": "stream",
     "text": [
      "12 j\n",
      "15 e\n",
      "18 l\n"
     ]
    }
   ],
   "source": [
    "x=[1,2,3]\n",
    "y=[4,5,6]\n",
    "z=[7,8,9,10]\n",
    "w='jello'\n",
    "for i,j,k ,l in zip(x,y,z,w):\n",
    "    print(i+j+k,l)"
   ]
  },
  {
   "cell_type": "code",
   "execution_count": 42,
   "metadata": {},
   "outputs": [
    {
     "name": "stdout",
     "output_type": "stream",
     "text": [
      "12\n",
      "24\n",
      "36\n",
      "48\n"
     ]
    }
   ],
   "source": [
    "x=[1,2,3,4]\n",
    "y=[11,22,33,44,55]\n",
    "for i,j in zip(x,y):\n",
    "    print(i+j)"
   ]
  },
  {
   "cell_type": "code",
   "execution_count": 45,
   "metadata": {},
   "outputs": [
    {
     "name": "stdout",
     "output_type": "stream",
     "text": [
      "i\n",
      "i\n",
      "a\n",
      "e\n",
      "o\n",
      "o\n",
      "a\n"
     ]
    }
   ],
   "source": [
    "# count the number of vowels in a sentence\n",
    "\n",
    "sentence= \"This is a very good day\"\n",
    "for i in sentence:\n",
    "    if i in \"aeiouAEIOU\":\n",
    "        print(i)"
   ]
  },
  {
   "cell_type": "code",
   "execution_count": 46,
   "metadata": {},
   "outputs": [
    {
     "name": "stdout",
     "output_type": "stream",
     "text": [
      "7\n"
     ]
    }
   ],
   "source": [
    "# count the number of vowels in a sentence\n",
    "\n",
    "sentence= \"This is a very good day\"\n",
    "count=0\n",
    "for ch in sentence:\n",
    "    if ch in \"AEIOUaeiou\":\n",
    "        count+=1\n",
    "print(count)"
   ]
  },
  {
   "cell_type": "code",
   "execution_count": null,
   "metadata": {},
   "outputs": [],
   "source": []
  }
 ],
 "metadata": {
  "kernelspec": {
   "display_name": "base",
   "language": "python",
   "name": "python3"
  },
  "language_info": {
   "codemirror_mode": {
    "name": "ipython",
    "version": 3
   },
   "file_extension": ".py",
   "mimetype": "text/x-python",
   "name": "python",
   "nbconvert_exporter": "python",
   "pygments_lexer": "ipython3",
   "version": "3.12.4"
  }
 },
 "nbformat": 4,
 "nbformat_minor": 2
}
