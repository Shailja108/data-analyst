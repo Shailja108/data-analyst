{
 "cells": [
  {
   "cell_type": "markdown",
   "metadata": {},
   "source": [
    "# control flow\n",
    "\n",
    "### condition\n",
    "\n",
    "- if\n",
    "\n",
    "- if else\n",
    "\n",
    "- if elif ladder\n",
    "\n",
    "- match case\n",
    "\n",
    "- nested if \n",
    "\n",
    "### loops\n",
    "\n",
    "- for loop\n",
    "\n",
    "- while loop"
   ]
  },
  {
   "cell_type": "code",
   "execution_count": 4,
   "metadata": {},
   "outputs": [
    {
     "name": "stdout",
     "output_type": "stream",
     "text": [
      "👻 ver nice\n",
      "🐞🪲 no bugs here\n",
      "name exists\n"
     ]
    }
   ],
   "source": [
    "x= 10\n",
    "if x>=5:\n",
    "    print(\"👻 ver nice\")\n",
    "\n",
    "y=2\n",
    "if x>5 and y<5:\n",
    "    print(\"🐞🪲 no bugs here\")\n",
    "\n",
    "name = \" Alex\"\n",
    "if name:\n",
    "    print(\"name exists\")"
   ]
  },
  {
   "cell_type": "code",
   "execution_count": 5,
   "metadata": {},
   "outputs": [
    {
     "name": "stdout",
     "output_type": "stream",
     "text": [
      "a is not empty\n"
     ]
    }
   ],
   "source": [
    "a= 'apple'\n",
    "if len(a):\n",
    "    print(\"a is not empty\")\n",
    "\n",
    "else:\n",
    "    print(\"a is empty\")"
   ]
  },
  {
   "cell_type": "code",
   "execution_count": null,
   "metadata": {},
   "outputs": [],
   "source": []
  }
 ],
 "metadata": {
  "kernelspec": {
   "display_name": "base",
   "language": "python",
   "name": "python3"
  },
  "language_info": {
   "codemirror_mode": {
    "name": "ipython",
    "version": 3
   },
   "file_extension": ".py",
   "mimetype": "text/x-python",
   "name": "python",
   "nbconvert_exporter": "python",
   "pygments_lexer": "ipython3",
   "version": "3.12.4"
  }
 },
 "nbformat": 4,
 "nbformat_minor": 2
}
