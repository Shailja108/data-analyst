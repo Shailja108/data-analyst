{
 "cells": [
  {
   "cell_type": "markdown",
   "metadata": {},
   "source": [
    "# control flow\n",
    "\n",
    "### condition\n",
    "\n",
    "- if\n",
    "\n",
    "- if else\n",
    "\n",
    "- if elif ladder\n",
    "\n",
    "- match case\n",
    "\n",
    "- nested if \n",
    "\n",
    "### loops\n",
    "\n",
    "- for loop\n",
    "\n",
    "- while loop"
   ]
  },
  {
   "cell_type": "code",
   "execution_count": 4,
   "metadata": {},
   "outputs": [
    {
     "name": "stdout",
     "output_type": "stream",
     "text": [
      "👻 ver nice\n",
      "🐞🪲 no bugs here\n",
      "name exists\n"
     ]
    }
   ],
   "source": [
    "x= 10\n",
    "if x>=5:\n",
    "    print(\"👻 ver nice\")\n",
    "\n",
    "y=2\n",
    "if x>5 and y<5:\n",
    "    print(\"🐞🪲 no bugs here\")\n",
    "\n",
    "name = \" Alex\"\n",
    "if name:\n",
    "    print(\"name exists\")"
   ]
  },
  {
   "cell_type": "code",
   "execution_count": 5,
   "metadata": {},
   "outputs": [
    {
     "name": "stdout",
     "output_type": "stream",
     "text": [
      "a is not empty\n"
     ]
    }
   ],
   "source": [
    "a= 'apple'\n",
    "if len(a):\n",
    "    print(\"a is not empty\")\n",
    "\n",
    "else:\n",
    "    print(\"a is empty\")"
   ]
  },
  {
   "cell_type": "code",
   "execution_count": 1,
   "metadata": {},
   "outputs": [
    {
     "name": "stdout",
     "output_type": "stream",
     "text": [
      "B is the greatest \n"
     ]
    }
   ],
   "source": [
    "# if elif ladder\n",
    "\n",
    "a=4\n",
    "b=6\n",
    "c=2\n",
    "if a>b and a>c:\n",
    "    print('A is the greatest')\n",
    "elif b>c and b>a:\n",
    "    print('B is the greatest ')\n",
    "else:\n",
    "    print('C is the greatest ')"
   ]
  },
  {
   "cell_type": "code",
   "execution_count": 2,
   "metadata": {},
   "outputs": [
    {
     "name": "stdout",
     "output_type": "stream",
     "text": [
      "students marks = 77\n",
      "students grade = B\n"
     ]
    }
   ],
   "source": [
    "marks= int(input(\"enter the marks\"))\n",
    "if marks>=90:\n",
    "    grade=\"A\"\n",
    "elif marks>=75:\n",
    "    grade=\"B\"\n",
    "elif marks>=60:\n",
    "    grade=\"C\"\n",
    "elif marks>50:\n",
    "    grade=\"D\"\n",
    "else:\n",
    "    grade=\"F\"\n",
    "print(f\"students marks = {marks}\")\n",
    "print(f\"students grade = {grade}\")"
   ]
  },
  {
   "cell_type": "code",
   "execution_count": 4,
   "metadata": {},
   "outputs": [
    {
     "name": "stdout",
     "output_type": "stream",
     "text": [
      "This is Free India\n"
     ]
    }
   ],
   "source": [
    "# match case\n",
    "\n",
    "ans = input(\"What is the Capital of India?\")\n",
    "match ans:\n",
    "    case 'Lucknow'|'lucknow':\n",
    "        print(\"You are too Stupid\")\n",
    "    case 'Delhi'| 'delhi':\n",
    "        print(\"You are Correct\")\n",
    "    case 'Culcutta'|'culutta':\n",
    "        print(\"You must be under a stone\")\n",
    "    case 'Shimla'|'shimla':\n",
    "        print(\"This is Free India\")\n",
    "    case _:\n",
    "        print(\"You are not from India\")"
   ]
  },
  {
   "cell_type": "code",
   "execution_count": 6,
   "metadata": {},
   "outputs": [
    {
     "name": "stdout",
     "output_type": "stream",
     "text": [
      "Chai ki dukaan\n",
      "1. Chai 10 Rs\n",
      "2. Bun Makkhan 30 Rs \n",
      "3. Cutting 5 Rs\n",
      "4. Samosa 10 Rs\n",
      "You have selected Cutting\n"
     ]
    }
   ],
   "source": [
    "print(\"Chai ki dukaan\")\n",
    "print(\"1. Chai 10 Rs\")\n",
    "print(\"2. Bun Makkhan 30 Rs \")\n",
    "print(\"3. Cutting 5 Rs\")\n",
    "print(\"4. Samosa 10 Rs\")\n",
    "choice = int(input(\"Enter your choice\"))\n",
    "match choice:\n",
    "    case 1:\n",
    "        print(\"You have selected Chai\")\n",
    "    case 2:\n",
    "        print(\"You have selected Bun Makkhan\")\n",
    "    case 3:\n",
    "        print(\"You have selected Cutting\")\n",
    "    case 4:\n",
    "        print(\"You have selected Samosa\")\n",
    "    case _:\n",
    "        print(\"kahi aur jao bhaiya\")"
   ]
  },
  {
   "cell_type": "code",
   "execution_count": null,
   "metadata": {},
   "outputs": [],
   "source": []
  }
 ],
 "metadata": {
  "kernelspec": {
   "display_name": "base",
   "language": "python",
   "name": "python3"
  },
  "language_info": {
   "codemirror_mode": {
    "name": "ipython",
    "version": 3
   },
   "file_extension": ".py",
   "mimetype": "text/x-python",
   "name": "python",
   "nbconvert_exporter": "python",
   "pygments_lexer": "ipython3",
   "version": "3.12.4"
  }
 },
 "nbformat": 4,
 "nbformat_minor": 2
}
