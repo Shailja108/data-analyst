{
 "cells": [
  {
   "cell_type": "markdown",
   "metadata": {},
   "source": [
    "# Data Structure -set\n",
    "- unordered\n",
    "- umindexed\n",
    "- mutable\n",
    "- mixed immutable elements\n",
    "- unique elements\n",
    "- iterable\n",
    "- represented by curly braces{}\n",
    "- `set()` for creating sets \n",
    "\n"
   ]
  },
  {
   "cell_type": "code",
   "execution_count": 1,
   "metadata": {},
   "outputs": [
    {
     "name": "stdout",
     "output_type": "stream",
     "text": [
      "set() <class 'set'>\n",
      "{1, 2, 3, 4}\n",
      "{'d', 'a', 'b', 'c'}\n",
      "[1, 2, 3, 4, 5]\n",
      "{1, 2, 'a', 3, 'c', 'b'}\n",
      "{1, 2, 3, 4, 5}\n"
     ]
    }
   ],
   "source": [
    "x=set()\n",
    "print(x,type(x))\n",
    "y={1,2,3,4}\n",
    "z={'a','b','d','c'}\n",
    "print(y)\n",
    "print(z)\n",
    "a=([1,2,3,4,5])\n",
    "print(a)\n",
    "b={'a',1,'b',2,'c',3}\n",
    "print(b)\n",
    "c={1,2,3,4,5,2,1,3,2,2,3}\n",
    "print(c)\n",
    "\n"
   ]
  },
  {
   "cell_type": "code",
   "execution_count": 2,
   "metadata": {},
   "outputs": [
    {
     "name": "stdout",
     "output_type": "stream",
     "text": [
      "1\n",
      "2\n",
      "a\n",
      "3\n",
      "c\n",
      "b\n"
     ]
    }
   ],
   "source": [
    "for i in b:\n",
    "    print(i)"
   ]
  },
  {
   "cell_type": "code",
   "execution_count": 3,
   "metadata": {},
   "outputs": [
    {
     "name": "stdout",
     "output_type": "stream",
     "text": [
      "{'Firefight', 'Steelheart', 'Snapshot', 'Legion'}\n"
     ]
    }
   ],
   "source": [
    "books=set()\n",
    "books.add(\"Legion\")\n",
    "books.add(\"Snapshot\")\n",
    "books.add(\"Steelheart\")\n",
    "books.add(\"Firefight\")\n",
    "print(books)"
   ]
  },
  {
   "cell_type": "code",
   "execution_count": 5,
   "metadata": {},
   "outputs": [
    {
     "name": "stdout",
     "output_type": "stream",
     "text": [
      "{'Firefight', 'Snapshot', 'Mistborn', 'Steelheart', 'Elantris', 'Legion', 'Calamity'}\n"
     ]
    }
   ],
   "source": [
    "books.update([\"Calamity\",\"Mistborn\",\"Elantris\"])\n",
    "print(books)"
   ]
  },
  {
   "cell_type": "code",
   "execution_count": 6,
   "metadata": {},
   "outputs": [],
   "source": [
    "books.discard(\"Mistborn\") # discard is better than remove\n"
   ]
  },
  {
   "cell_type": "code",
   "execution_count": 7,
   "metadata": {},
   "outputs": [
    {
     "data": {
      "text/plain": [
       "'Firefight'"
      ]
     },
     "execution_count": 7,
     "metadata": {},
     "output_type": "execute_result"
    }
   ],
   "source": [
    "books.pop() # removes a random element"
   ]
  },
  {
   "cell_type": "markdown",
   "metadata": {},
   "source": [
    "set operations"
   ]
  },
  {
   "cell_type": "code",
   "execution_count": 8,
   "metadata": {},
   "outputs": [],
   "source": [
    "a={1,2,3,4,5}\n",
    "b={4,5,6,7,8}\n",
    "c={1,2,3}\n",
    "d={5,6,7}\n"
   ]
  },
  {
   "cell_type": "markdown",
   "metadata": {},
   "source": [
    "- `union()`=> `|`\n",
    "- `intercection()`=>`&`\n",
    "- `difference()`=> `-`\n",
    "- `symmetric_difference()`=>`^`"
   ]
  },
  {
   "cell_type": "code",
   "execution_count": 9,
   "metadata": {},
   "outputs": [
    {
     "data": {
      "text/plain": [
       "{1, 2, 3, 4, 5, 6, 7, 8}"
      ]
     },
     "execution_count": 9,
     "metadata": {},
     "output_type": "execute_result"
    }
   ],
   "source": [
    "a.union(b)"
   ]
  },
  {
   "cell_type": "code",
   "execution_count": 10,
   "metadata": {},
   "outputs": [
    {
     "data": {
      "text/plain": [
       "{1, 2, 3, 4, 5, 6, 7, 8}"
      ]
     },
     "execution_count": 10,
     "metadata": {},
     "output_type": "execute_result"
    }
   ],
   "source": [
    "a|b"
   ]
  },
  {
   "cell_type": "code",
   "execution_count": 11,
   "metadata": {},
   "outputs": [
    {
     "name": "stdout",
     "output_type": "stream",
     "text": [
      "intersection\n",
      "{4, 5}\n",
      "{4, 5}\n",
      "difference\n",
      "{1, 2, 3}\n",
      "{1, 2, 3}\n",
      "symmetric difference\n",
      "{1, 2, 3, 6, 7, 8}\n",
      "{1, 2, 3, 6, 7, 8}\n"
     ]
    }
   ],
   "source": [
    "print('intersection')\n",
    "print(a.intersection(b))\n",
    "print(a&b)\n",
    "\n",
    "print(\"difference\")\n",
    "print(a.difference(b))\n",
    "print(a - b)\n",
    "\n",
    "print(\"symmetric difference\")\n",
    "print(a.symmetric_difference(b))\n",
    "print(a ^ b)"
   ]
  },
  {
   "cell_type": "code",
   "execution_count": 12,
   "metadata": {},
   "outputs": [
    {
     "name": "stdout",
     "output_type": "stream",
     "text": [
      "joined False\n",
      "disjoined True\n"
     ]
    }
   ],
   "source": [
    "\n",
    "print(\"joined\",a.isdisjoint(c))\n",
    "print(\"disjoined\",a.isdisjoint({11,12}))\n",
    "\n",
    "\n"
   ]
  },
  {
   "cell_type": "code",
   "execution_count": 13,
   "metadata": {},
   "outputs": [
    {
     "name": "stdout",
     "output_type": "stream",
     "text": [
      "subset: True\n",
      "superset: False\n",
      "superset: True\n"
     ]
    }
   ],
   "source": [
    "print(\"subset:\",c.issubset(a))\n",
    "print(\"superset:\",d.issuperset(c))\n",
    "print(\"superset:\",b.issuperset(d))"
   ]
  },
  {
   "cell_type": "code",
   "execution_count": 14,
   "metadata": {},
   "outputs": [
    {
     "name": "stdout",
     "output_type": "stream",
     "text": [
      "your data\n",
      "==> 4\n",
      "==> 3324\n",
      "==> 33\n"
     ]
    }
   ],
   "source": [
    "# wap that allows users to enter data as much as they want and then the unique data\n",
    "# remove duplicates and print the unique data\n",
    "\n",
    "data=set()\n",
    "while True:\n",
    "    value = input('enter your data')\n",
    "    if not value:\n",
    "        break\n",
    "    data.add(value)\n",
    "print(\"your data\")\n",
    "for item in data:\n",
    "    print(\"==>\",item)"
   ]
  },
  {
   "cell_type": "code",
   "execution_count": null,
   "metadata": {},
   "outputs": [],
   "source": []
  }
 ],
 "metadata": {
  "kernelspec": {
   "display_name": "base",
   "language": "python",
   "name": "python3"
  },
  "language_info": {
   "codemirror_mode": {
    "name": "ipython",
    "version": 3
   },
   "file_extension": ".py",
   "mimetype": "text/x-python",
   "name": "python",
   "nbconvert_exporter": "python",
   "pygments_lexer": "ipython3",
   "version": "3.12.4"
  }
 },
 "nbformat": 4,
 "nbformat_minor": 2
}
