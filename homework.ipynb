{
 "cells": [
  {
   "cell_type": "markdown",
   "metadata": {},
   "source": [
    "1. Write a program to print numbers from 1 to 10 using a for loop.\n",
    "2. Write a program to print the multiplication table of a given number using a while loop.\n",
    "3. Write a program to find the sum of all even numbers between 1 and 100 using a for loop.\n",
    "4. Write a program to check if a given number is prime or not using a while loop.\n",
    "5. Write a program to calculate the factorial of a number using a for loop.\n",
    "6. Write a program to print the Fibonacci series up to a given limit using a for loop.\n",
    "7. Write a program to find the largest element in an array using a for loop.\n",
    "8. Write a program to reverse a given string using a while loop.\n",
    "9. Write a program to print the ASCII values of all uppercase letters using a for loop.\n",
    "10. Write a program to check if a given string is a palindrome using a for loop.\n",
    "11. Write a program to calculate the average of a list of numbers using a for loop.\n",
    "12. Write a program to find the smallest element in an array using a while loop.\n",
    "13. Write a program to calculate the sum of digits of a number using a for loop.\n",
    "14. Write a program to check if a given list of years has a leap year using a while loop.\n",
    "15. Write a program to print the multiplication table of numbers from 1 to 5 using a for loop.\n",
    "16. Write a program to find the factorial of a number using a for loop.\n",
    "17. Write a program to count the number of vowels in a given string using a for loop.\n",
    "18. Write a program to find the largest and smallest elements in an array using a for loop.\n",
    "19. Write a program to reverse the order of words in a sentence using a while loop."
   ]
  },
  {
   "cell_type": "code",
   "execution_count": 4,
   "metadata": {},
   "outputs": [
    {
     "name": "stdout",
     "output_type": "stream",
     "text": [
      "1 2 3 4 5 6 7 8 9 10 "
     ]
    }
   ],
   "source": [
    "#1\n",
    "\n",
    "for i in range(1,11):\n",
    "    print(i,end=' ')"
   ]
  },
  {
   "cell_type": "code",
   "execution_count": 6,
   "metadata": {},
   "outputs": [
    {
     "name": "stdout",
     "output_type": "stream",
     "text": [
      "2*1=2\n",
      "2*2=4\n",
      "2*3=6\n",
      "2*4=8\n",
      "2*5=10\n",
      "2*6=12\n",
      "2*7=14\n",
      "2*8=16\n",
      "2*9=18\n",
      "2*10=20\n"
     ]
    }
   ],
   "source": [
    "#2\n",
    "\n",
    "multi = 2\n",
    "num=1\n",
    "while num<=10:\n",
    "    result =multi*num\n",
    "    print(f'{multi}*{num}={result}')\n",
    "    num+=1"
   ]
  },
  {
   "cell_type": "code",
   "execution_count": 1,
   "metadata": {},
   "outputs": [
    {
     "name": "stdout",
     "output_type": "stream",
     "text": [
      "sum of even number=2550\n"
     ]
    }
   ],
   "source": [
    "#3\n",
    "sum=0\n",
    "for i in range(1,101):\n",
    "    if i%2==0:\n",
    "        sum+=i\n",
    "print(f'sum of even number={sum}')\n"
   ]
  },
  {
   "cell_type": "code",
   "execution_count": 2,
   "metadata": {},
   "outputs": [
    {
     "name": "stdout",
     "output_type": "stream",
     "text": [
      "prime\n"
     ]
    }
   ],
   "source": [
    "#4\n",
    "n1 = int(input('enter a number'))\n",
    "\n",
    "prime = True\n",
    "\n",
    "for i in range(2,n1):\n",
    "    if n1%i == 0:\n",
    "        print('not prime')\n",
    "        prime = False\n",
    "        break\n",
    "\n",
    "if prime:\n",
    "    print('prime')\n"
   ]
  },
  {
   "cell_type": "code",
   "execution_count": 4,
   "metadata": {},
   "outputs": [
    {
     "name": "stdout",
     "output_type": "stream",
     "text": [
      "number=5\n",
      "factorial=120\n"
     ]
    }
   ],
   "source": [
    "#5\n",
    "a= int(input('enter any number'))\n",
    "fact =1\n",
    "for i in range(a,1,-1):\n",
    "    fact=fact*i\n",
    "print(f'number={a}')\n",
    "print(f'factorial={fact}')"
   ]
  },
  {
   "cell_type": "code",
   "execution_count": 11,
   "metadata": {},
   "outputs": [
    {
     "name": "stdout",
     "output_type": "stream",
     "text": [
      "1\n",
      "2\n",
      "3\n",
      "5\n",
      "8\n",
      "13\n",
      "21\n",
      "34\n"
     ]
    }
   ],
   "source": [
    "#6\n",
    "a ,b =0, 1\n",
    "for i in range(1,9):\n",
    "    c=a+b\n",
    "    a=b\n",
    "    b=c\n",
    "    print(c)\n",
    "     \n",
    "  "
   ]
  },
  {
   "cell_type": "code",
   "execution_count": 1,
   "metadata": {},
   "outputs": [
    {
     "name": "stdout",
     "output_type": "stream",
     "text": [
      "('yashi', 'aditi', 'akhil', 'ashwat')\n"
     ]
    }
   ],
   "source": [
    " #Create a string and print it.\n",
    "\n",
    "names = 'yashi','aditi','akhil','ashwat'\n",
    "print(names)"
   ]
  },
  {
   "cell_type": "code",
   "execution_count": 5,
   "metadata": {},
   "outputs": [
    {
     "name": "stdout",
     "output_type": "stream",
     "text": [
      "andromeda\n",
      "9\n"
     ]
    }
   ],
   "source": [
    "# Take a string input and print it's length\n",
    "\n",
    "galaxy = input(\"enter the galaxy name\")\n",
    "print(galaxy)\n",
    "print(len(galaxy))\n"
   ]
  },
  {
   "cell_type": "code",
   "execution_count": 11,
   "metadata": {},
   "outputs": [
    {
     "name": "stdout",
     "output_type": "stream",
     "text": [
      " great\n"
     ]
    }
   ],
   "source": [
    "# Print the last word of the string Python is great using slices.\n",
    "\n",
    "sentence = \"Python is great\"\n",
    "print(sentence[9:])"
   ]
  },
  {
   "cell_type": "code",
   "execution_count": 20,
   "metadata": {},
   "outputs": [
    {
     "name": "stdout",
     "output_type": "stream",
     "text": [
      "['P']\n",
      "['y']\n",
      "['t']\n",
      "['h']\n",
      "['o']\n",
      "['n']\n",
      "[]\n",
      "['i']\n",
      "['s']\n",
      "[]\n",
      "['e']\n",
      "['v']\n",
      "['e']\n",
      "['r']\n",
      "['y']\n",
      "['w']\n",
      "['h']\n",
      "['e']\n",
      "['r']\n",
      "['e']\n"
     ]
    }
   ],
   "source": [
    "# Print the each word in different line of string python is everywhere.\n",
    "\n",
    "lines = \"Python is everywhere\"\n",
    "for line in lines:\n",
    "    print(line.split(),sep='\\n' )"
   ]
  },
  {
   "cell_type": "code",
   "execution_count": 21,
   "metadata": {},
   "outputs": [
    {
     "name": "stdout",
     "output_type": "stream",
     "text": [
      "! dlroW olleH\n"
     ]
    }
   ],
   "source": [
    "# Print the string Hello World! in reverse\n",
    "\n",
    "string = \"Hello World !\"\n",
    "print(string[::-1])"
   ]
  },
  {
   "cell_type": "code",
   "execution_count": 23,
   "metadata": {},
   "outputs": [
    {
     "name": "stdout",
     "output_type": "stream",
     "text": [
      "HOW ARE YOU?\n"
     ]
    }
   ],
   "source": [
    "# convert the string How are you? in uppercase.\n",
    "\n",
    "word = \"how are you?\"\n",
    "print(word.upper())"
   ]
  },
  {
   "cell_type": "code",
   "execution_count": 25,
   "metadata": {},
   "outputs": [
    {
     "name": "stdout",
     "output_type": "stream",
     "text": [
      "how is it going ? \n"
     ]
    }
   ],
   "source": [
    "# Convert the string How Is It Going? in lowercase.\n",
    "word = \"HOW IS IT GOING ? \"\n",
    "print(word.lower())"
   ]
  },
  {
   "cell_type": "code",
   "execution_count": 42,
   "metadata": {},
   "outputs": [
    {
     "name": "stdout",
     "output_type": "stream",
     "text": [
      "Python  is  easy  to  learn\n"
     ]
    }
   ],
   "source": [
    "# join the following list by spaces( ) and print the result.\n",
    "#words = ['Python', 'is', 'easy', 'to', 'learn']\n",
    "\n",
    "words = ['Python', 'is', 'easy', 'to', 'learn']\n",
    "sent = \"  \".join(words)\n",
    "print(sent)\n",
    "\n"
   ]
  },
  {
   "cell_type": "code",
   "execution_count": 41,
   "metadata": {},
   "outputs": [
    {
     "name": "stdout",
     "output_type": "stream",
     "text": [
      "this is an example of multiline string in python,triple quotes allow multiline concept\n"
     ]
    }
   ],
   "source": [
    "# Print a multiline string using a single print\n",
    "\n",
    "message = '''this is an example of multiline string in python,triple quotes allow multiline concept'''\n",
    "print(message)\n"
   ]
  },
  {
   "cell_type": "code",
   "execution_count": null,
   "metadata": {},
   "outputs": [],
   "source": []
  }
 ],
 "metadata": {
  "kernelspec": {
   "display_name": "base",
   "language": "python",
   "name": "python3"
  },
  "language_info": {
   "codemirror_mode": {
    "name": "ipython",
    "version": 3
   },
   "file_extension": ".py",
   "mimetype": "text/x-python",
   "name": "python",
   "nbconvert_exporter": "python",
   "pygments_lexer": "ipython3",
   "version": "3.12.4"
  }
 },
 "nbformat": 4,
 "nbformat_minor": 2
}
