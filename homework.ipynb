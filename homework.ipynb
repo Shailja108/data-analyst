{
 "cells": [
  {
   "cell_type": "markdown",
   "metadata": {},
   "source": [
    "1. Write a program to print numbers from 1 to 10 using a for loop.\n",
    "2. Write a program to print the multiplication table of a given number using a while loop.\n",
    "3. Write a program to find the sum of all even numbers between 1 and 100 using a for loop.\n",
    "4. Write a program to check if a given number is prime or not using a while loop.\n",
    "5. Write a program to calculate the factorial of a number using a for loop.\n",
    "6. Write a program to print the Fibonacci series up to a given limit using a for loop.\n",
    "7. Write a program to find the largest element in an array using a for loop.\n",
    "8. Write a program to reverse a given string using a while loop.\n",
    "9. Write a program to print the ASCII values of all uppercase letters using a for loop.\n",
    "10. Write a program to check if a given string is a palindrome using a for loop.\n",
    "11. Write a program to calculate the average of a list of numbers using a for loop.\n",
    "12. Write a program to find the smallest element in an array using a while loop.\n",
    "13. Write a program to calculate the sum of digits of a number using a for loop.\n",
    "14. Write a program to check if a given list of years has a leap year using a while loop.\n",
    "15. Write a program to print the multiplication table of numbers from 1 to 5 using a for loop.\n",
    "16. Write a program to find the factorial of a number using a for loop.\n",
    "17. Write a program to count the number of vowels in a given string using a for loop.\n",
    "18. Write a program to find the largest and smallest elements in an array using a for loop.\n",
    "19. Write a program to reverse the order of words in a sentence using a while loop."
   ]
  },
  {
   "cell_type": "code",
   "execution_count": 4,
   "metadata": {},
   "outputs": [
    {
     "name": "stdout",
     "output_type": "stream",
     "text": [
      "1 2 3 4 5 6 7 8 9 10 "
     ]
    }
   ],
   "source": [
    "#1\n",
    "\n",
    "for i in range(1,11):\n",
    "    print(i,end=' ')"
   ]
  },
  {
   "cell_type": "code",
   "execution_count": 6,
   "metadata": {},
   "outputs": [
    {
     "name": "stdout",
     "output_type": "stream",
     "text": [
      "2*1=2\n",
      "2*2=4\n",
      "2*3=6\n",
      "2*4=8\n",
      "2*5=10\n",
      "2*6=12\n",
      "2*7=14\n",
      "2*8=16\n",
      "2*9=18\n",
      "2*10=20\n"
     ]
    }
   ],
   "source": [
    "#2\n",
    "\n",
    "multi = 2\n",
    "num=1\n",
    "while num<=10:\n",
    "    result =multi*num\n",
    "    print(f'{multi}*{num}={result}')\n",
    "    num+=1"
   ]
  },
  {
   "cell_type": "code",
   "execution_count": 1,
   "metadata": {},
   "outputs": [
    {
     "name": "stdout",
     "output_type": "stream",
     "text": [
      "sum of even number=2550\n"
     ]
    }
   ],
   "source": [
    "#3\n",
    "sum=0\n",
    "for i in range(1,101):\n",
    "    if i%2==0:\n",
    "        sum+=i\n",
    "print(f'sum of even number={sum}')\n"
   ]
  },
  {
   "cell_type": "code",
   "execution_count": 2,
   "metadata": {},
   "outputs": [
    {
     "name": "stdout",
     "output_type": "stream",
     "text": [
      "prime\n"
     ]
    }
   ],
   "source": [
    "#4\n",
    "n1 = int(input('enter a number'))\n",
    "\n",
    "prime = True\n",
    "\n",
    "for i in range(2,n1):\n",
    "    if n1%i == 0:\n",
    "        print('not prime')\n",
    "        prime = False\n",
    "        break\n",
    "\n",
    "if prime:\n",
    "    print('prime')\n"
   ]
  },
  {
   "cell_type": "code",
   "execution_count": 4,
   "metadata": {},
   "outputs": [
    {
     "name": "stdout",
     "output_type": "stream",
     "text": [
      "number=5\n",
      "factorial=120\n"
     ]
    }
   ],
   "source": [
    "#5\n",
    "a= int(input('enter any number'))\n",
    "fact =1\n",
    "for i in range(a,1,-1):\n",
    "    fact=fact*i\n",
    "print(f'number={a}')\n",
    "print(f'factorial={fact}')"
   ]
  },
  {
   "cell_type": "code",
   "execution_count": 11,
   "metadata": {},
   "outputs": [
    {
     "name": "stdout",
     "output_type": "stream",
     "text": [
      "1\n",
      "2\n",
      "3\n",
      "5\n",
      "8\n",
      "13\n",
      "21\n",
      "34\n"
     ]
    }
   ],
   "source": [
    "#6\n",
    "a ,b =0, 1\n",
    "for i in range(1,9):\n",
    "    c=a+b\n",
    "    a=b\n",
    "    b=c\n",
    "    print(c)\n",
    "     \n",
    "  "
   ]
  },
  {
   "cell_type": "code",
   "execution_count": 2,
   "metadata": {},
   "outputs": [
    {
     "name": "stdout",
     "output_type": "stream",
     "text": [
      "192921\n"
     ]
    },
    {
     "ename": "TypeError",
     "evalue": "'int' object is not iterable",
     "output_type": "error",
     "traceback": [
      "\u001b[1;31m---------------------------------------------------------------------------\u001b[0m",
      "\u001b[1;31mTypeError\u001b[0m                                 Traceback (most recent call last)",
      "Cell \u001b[1;32mIn[2], line 7\u001b[0m\n\u001b[0;32m      4\u001b[0m \u001b[38;5;28mprint\u001b[39m(n)\n\u001b[0;32m      5\u001b[0m r\u001b[38;5;241m=\u001b[39m\u001b[38;5;241m0\u001b[39m\n\u001b[1;32m----> 7\u001b[0m \u001b[38;5;28;43;01mfor\u001b[39;49;00m\u001b[43m \u001b[49m\u001b[43mi\u001b[49m\u001b[43m \u001b[49m\u001b[38;5;129;43;01min\u001b[39;49;00m\u001b[43m \u001b[49m\u001b[43mn\u001b[49m\u001b[43m:\u001b[49m\n\u001b[0;32m      8\u001b[0m \u001b[43m    \u001b[49m\u001b[43md\u001b[49m\u001b[38;5;241;43m=\u001b[39;49m\u001b[43mn\u001b[49m\u001b[38;5;241;43m%\u001b[39;49m\u001b[38;5;241;43m10\u001b[39;49m\n\u001b[0;32m      9\u001b[0m \u001b[43m    \u001b[49m\u001b[43mr\u001b[49m\u001b[38;5;241;43m=\u001b[39;49m\u001b[43mr\u001b[49m\u001b[38;5;241;43m*\u001b[39;49m\u001b[38;5;241;43m10\u001b[39;49m\u001b[38;5;241;43m+\u001b[39;49m\u001b[43md\u001b[49m\n",
      "\u001b[1;31mTypeError\u001b[0m: 'int' object is not iterable"
     ]
    }
   ],
   "source": [
    "# 10\n",
    "n = int(input('enter a number'))\n",
    "t=n\n",
    "print(n)\n",
    "r=0\n",
    "\n",
    "for i in n:\n",
    "    d=n%10\n",
    "    r=r*10+d\n",
    "    n=n//10\n",
    "    print(n)\n",
    "    print(r)\n",
    "\n",
    "    if t==r:\n",
    "        print(' palindrome')\n",
    "    else:\n",
    "        print('not palindrome')"
   ]
  },
  {
   "cell_type": "code",
   "execution_count": null,
   "metadata": {},
   "outputs": [],
   "source": []
  }
 ],
 "metadata": {
  "kernelspec": {
   "display_name": "base",
   "language": "python",
   "name": "python3"
  },
  "language_info": {
   "codemirror_mode": {
    "name": "ipython",
    "version": 3
   },
   "file_extension": ".py",
   "mimetype": "text/x-python",
   "name": "python",
   "nbconvert_exporter": "python",
   "pygments_lexer": "ipython3",
   "version": "3.12.4"
  }
 },
 "nbformat": 4,
 "nbformat_minor": 2
}
