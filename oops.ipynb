{
 "cells": [
  {
   "cell_type": "markdown",
   "metadata": {},
   "source": [
    "# OOPS\n",
    "- Classes and Objects\n",
    "    - Attributes (Instances Variables)\n",
    "    - constructor\n",
    "    - methodas\n",
    "\n",
    "- data classes\n",
    "- inheritance\n",
    "    - simple inheritance\n",
    "    - multiple inheritance"
   ]
  },
  {
   "cell_type": "code",
   "execution_count": 1,
   "metadata": {},
   "outputs": [],
   "source": [
    "a= 10"
   ]
  },
  {
   "cell_type": "code",
   "execution_count": 2,
   "metadata": {},
   "outputs": [
    {
     "name": "stdout",
     "output_type": "stream",
     "text": [
      "<class 'int'>\n"
     ]
    }
   ],
   "source": [
    "print(type(a))"
   ]
  },
  {
   "cell_type": "code",
   "execution_count": 3,
   "metadata": {},
   "outputs": [],
   "source": [
    "class A:\n",
    "    value = 10\n",
    "    "
   ]
  },
  {
   "cell_type": "code",
   "execution_count": 5,
   "metadata": {},
   "outputs": [
    {
     "name": "stdout",
     "output_type": "stream",
     "text": [
      "10\n"
     ]
    }
   ],
   "source": [
    "a = A()  # obj creation of class A\n",
    "print(a.value)"
   ]
  },
  {
   "cell_type": "code",
   "execution_count": 11,
   "metadata": {},
   "outputs": [],
   "source": [
    "class Square:\n",
    "    side = 10 # class variable (static = fixed )\n",
    "\n",
    "    def area(self):\n",
    "        return self.side ** 2  # instance method -> 1st parameter is self\n",
    "    \n",
    "    def perimeter(self):\n",
    "        return 4 * self.side\n",
    "    \n",
    "    # class method -> similar to static method in java \n",
    "    def faltu():\n",
    "        return \"this is faltu\""
   ]
  },
  {
   "cell_type": "code",
   "execution_count": 13,
   "metadata": {},
   "outputs": [
    {
     "data": {
      "text/plain": [
       "'this is faltu'"
      ]
     },
     "execution_count": 13,
     "metadata": {},
     "output_type": "execute_result"
    }
   ],
   "source": [
    "Square.side   # static variable\n",
    "Square.faltu() # class method "
   ]
  },
  {
   "cell_type": "code",
   "execution_count": 14,
   "metadata": {},
   "outputs": [
    {
     "name": "stdout",
     "output_type": "stream",
     "text": [
      "400\n",
      "80\n",
      "100\n",
      "40\n"
     ]
    }
   ],
   "source": [
    "s = Square()\n",
    "s.side = 20\n",
    "print(s.area())\n",
    "print(s.perimeter())\n",
    "\n",
    "s2 = Square()\n",
    "s.side = 5\n",
    "print(s2.area())\n",
    "print(s2.perimeter())\n",
    "\n"
   ]
  },
  {
   "cell_type": "markdown",
   "metadata": {},
   "source": [
    "constructor\n",
    "```\n",
    "__init__(self,...)\n",
    "```"
   ]
  },
  {
   "cell_type": "code",
   "execution_count": 19,
   "metadata": {},
   "outputs": [],
   "source": [
    "class Person:\n",
    "    # constructor\n",
    "    def __init__(self,n,a,g):\n",
    "        #instance variable\n",
    "        self.name = n\n",
    "        self.age = a\n",
    "        self.gender = g\n",
    "\n",
    "    def show(self):\n",
    "        print(f\"Name: {self.name}\")\n",
    "        print(f\"Age: {self.age}\")\n",
    "        print(f\"Gender: {self.gender}\")"
   ]
  },
  {
   "cell_type": "code",
   "execution_count": 20,
   "metadata": {},
   "outputs": [],
   "source": [
    "p1 = Person(\"Hari\",15,\"male\")\n",
    "p2 = Person(\"Sita\",20,\"female\")\n",
    "p3 = Person(\"Gita\",11,\"female\")"
   ]
  },
  {
   "cell_type": "code",
   "execution_count": 21,
   "metadata": {},
   "outputs": [],
   "source": [
    "class Calculator:\n",
    "    def add(Self, a, b):\n",
    "        return a + b\n",
    "    \n",
    "    def subtract(self, a, b):\n",
    "        return a - b\n",
    "\n",
    "    def multiply(self, a, b):\n",
    "        return a * b\n",
    "    \n",
    "    def divide(self, a, b):\n",
    "        return a / b"
   ]
  },
  {
   "cell_type": "code",
   "execution_count": 22,
   "metadata": {},
   "outputs": [
    {
     "name": "stdout",
     "output_type": "stream",
     "text": [
      "30\n",
      "200\n",
      "-10\n"
     ]
    }
   ],
   "source": [
    "c = Calculator()\n",
    "print(c.add(10, 20))\n",
    "print(c.multiply(10, 20))\n",
    "print(c.subtract(10, 20))"
   ]
  },
  {
   "cell_type": "markdown",
   "metadata": {},
   "source": [
    "data classes"
   ]
  },
  {
   "cell_type": "code",
   "execution_count": 29,
   "metadata": {},
   "outputs": [],
   "source": [
    "from dataclasses import dataclass\n",
    "\n",
    "@dataclass\n",
    "class Product:\n",
    "    name : str\n",
    "    price : float\n",
    "    qty : int\n",
    "\n",
    "products = [\n",
    "    Product(\"Apple\",100,10),\n",
    "    Product(\"Banana\",50,20),\n",
    "    Product(\"Mango\",200,5)\n",
    "]"
   ]
  },
  {
   "cell_type": "code",
   "execution_count": 30,
   "metadata": {},
   "outputs": [
    {
     "name": "stdout",
     "output_type": "stream",
     "text": [
      "Apple 1000\n",
      "Banana 1000\n",
      "Mango 1000\n"
     ]
    }
   ],
   "source": [
    "# traverse\n",
    "\n",
    "for item in products:\n",
    "    print(item.name,item.price*item.qty)"
   ]
  },
  {
   "cell_type": "code",
   "execution_count": 31,
   "metadata": {},
   "outputs": [
    {
     "data": {
      "text/plain": [
       "[Product(name='Apple', price=100, qty=10),\n",
       " Product(name='Banana', price=50, qty=20),\n",
       " Product(name='Mango', price=200, qty=5)]"
      ]
     },
     "execution_count": 31,
     "metadata": {},
     "output_type": "execute_result"
    }
   ],
   "source": [
    "products"
   ]
  },
  {
   "cell_type": "code",
   "execution_count": 32,
   "metadata": {},
   "outputs": [
    {
     "data": {
      "text/plain": [
       "[<__main__.Person at 0x1c50c2ed4f0>,\n",
       " <__main__.Person at 0x1c50c2efd10>,\n",
       " <__main__.Person at 0x1c50c2ef710>]"
      ]
     },
     "execution_count": 32,
     "metadata": {},
     "output_type": "execute_result"
    }
   ],
   "source": [
    "[p1, p2, p3]"
   ]
  },
  {
   "cell_type": "markdown",
   "metadata": {},
   "source": [
    "dunder methods -> functions that starts and end with double underscore"
   ]
  },
  {
   "cell_type": "code",
   "execution_count": 57,
   "metadata": {},
   "outputs": [],
   "source": [
    "class Dog:\n",
    "    def __init__(self, breed,color,gender,age,name):\n",
    "        self.breed = breed\n",
    "        self.color = color\n",
    "        self.gender = gender\n",
    "        self.age = age\n",
    "        self.name = name\n",
    "\n",
    "    def bark(self):\n",
    "        print(\"Barking\")\n",
    "    def eat(self, food):\n",
    "        print(f\"{self.name} eating {food}\")\n",
    "    def sleep(self, duration):\n",
    "        print(f\"{self.name} selpt for {duration} hours\")\n",
    "    def __str__(self):\n",
    "        return f\"{self.name}({self.breed})\"\n",
    "\n",
    "\n"
   ]
  },
  {
   "cell_type": "code",
   "execution_count": 58,
   "metadata": {},
   "outputs": [
    {
     "name": "stdout",
     "output_type": "stream",
     "text": [
      "Tommy selpt for 5 hours\n",
      "Tommy(German Shepherd)\n"
     ]
    }
   ],
   "source": [
    "d1 = Dog(\"German Shepherd\", \"Brown\", \"male\", 3, \"Tommy\")\n",
    "d1.sleep(5)\n",
    "\n",
    "print(d1)\n"
   ]
  },
  {
   "cell_type": "markdown",
   "metadata": {},
   "source": [
    "inheritance"
   ]
  },
  {
   "cell_type": "code",
   "execution_count": 53,
   "metadata": {},
   "outputs": [],
   "source": [
    "class SuperList(list):\n",
    "    def sum(self):\n",
    "        total = 0\n",
    "        for item in self:\n",
    "            if isinstance(item,(int, float)):\n",
    "                total += item\n",
    "        return total\n",
    "        \n",
    "    def mean(self):\n",
    "        return self.sum() / self.size()\n",
    "    def size(self):\n",
    "        return len([i for i in self if isinstance(i, (int, float))])\n",
    "    "
   ]
  },
  {
   "cell_type": "code",
   "execution_count": 54,
   "metadata": {},
   "outputs": [
    {
     "name": "stdout",
     "output_type": "stream",
     "text": [
      "15\n",
      "20\n"
     ]
    }
   ],
   "source": [
    "sl = SuperList([1,2,3,4,5])\n",
    "print(sl.sum())\n",
    "sl2 = SuperList(['A',1,2,3,4,'B','C',10])\n",
    "print(sl2.sum())"
   ]
  },
  {
   "cell_type": "code",
   "execution_count": null,
   "metadata": {},
   "outputs": [],
   "source": []
  }
 ],
 "metadata": {
  "kernelspec": {
   "display_name": "base",
   "language": "python",
   "name": "python3"
  },
  "language_info": {
   "codemirror_mode": {
    "name": "ipython",
    "version": 3
   },
   "file_extension": ".py",
   "mimetype": "text/x-python",
   "name": "python",
   "nbconvert_exporter": "python",
   "pygments_lexer": "ipython3",
   "version": "3.12.4"
  }
 },
 "nbformat": 4,
 "nbformat_minor": 2
}
