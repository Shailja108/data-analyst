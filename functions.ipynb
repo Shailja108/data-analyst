{
 "cells": [
  {
   "cell_type": "markdown",
   "metadata": {},
   "source": [
    "functions\n",
    "1. predefined function\n",
    "    1. built-in function(directly available)\n",
    "    2. module function(need to import)\n",
    "        1. python standard library\n",
    "        2. 3rd party library( pip install library)\n",
    "     \n",
    "2. user defined function\n",
    "    1. non- parameterized\n",
    "    2. function with return types\n",
    "    3. parameterized\n",
    "        1. required parameter\n",
    "        2. named argument\n",
    "        3. default parameter \n",
    "        4. variable length argument\n",
    "        5. keyword variable length argument\n",
    "    4. anonymous functiom(lamda function)\n",
    "    5. generator function\n"
   ]
  },
  {
   "cell_type": "code",
   "execution_count": 1,
   "metadata": {},
   "outputs": [
    {
     "data": {
      "text/plain": [
       "5"
      ]
     },
     "execution_count": 1,
     "metadata": {},
     "output_type": "execute_result"
    }
   ],
   "source": [
    "#built in function\n",
    "# help()  \n",
    "# min()\n",
    "# max()\n",
    "eval(\" 2+3\")\n"
   ]
  },
  {
   "cell_type": "code",
   "execution_count": 2,
   "metadata": {},
   "outputs": [
    {
     "data": {
      "text/plain": [
       "150"
      ]
     },
     "execution_count": 2,
     "metadata": {},
     "output_type": "execute_result"
    }
   ],
   "source": [
    "x= 5\n",
    "eq = input(\"give me an equation for x\")\n",
    "eval(eq)"
   ]
  },
  {
   "cell_type": "markdown",
   "metadata": {},
   "source": [
    "`open()` for file handling"
   ]
  },
  {
   "cell_type": "code",
   "execution_count": 4,
   "metadata": {},
   "outputs": [
    {
     "name": "stdout",
     "output_type": "stream",
     "text": [
      "{\n",
      " \"cells\": [\n",
      "  {\n",
      "   \"cell_type\": \"markdown\",\n",
      "   \"metadata\": {},\n",
      "   \"source\": [\n",
      "    \"# Data Structure - dictionary\\n\",\n",
      "    \"- ordered\\n\",\n",
      "    \"- mutable\\n\",\n",
      "    \"- key-value pairs (unindexed) \\n\",\n",
      "    \"- keys are unique\\n\",\n",
      "    \"- values can be any data type\\n\",\n",
      "    \"- keys should be immutable (`int`,`float`,`string`,`tupl`)\\n\",\n",
      "    \"- keys are case-sensitive\\n\",\n",
      "    \"- represented with`{}`\\n\",\n",
      "    \"- `dict()` is used to make dictionary\"\n",
      "   ]\n",
      "  },\n",
      "  {\n",
      "   \"cell_type\": \"code\",\n",
      "   \"execution_count\": 1,\n",
      "   \"metadata\": {},\n",
      "   \"outputs\": [\n",
      "    {\n",
      "     \"name\": \"stdout\",\n",
      "     \"output_type\": \"stream\",\n",
      "     \"text\": [\n",
      "      \"{} {'apples': 50, 'orange': 25} {'almond': 200, 'walnut': 100}\\n\"\n",
      "     ]\n",
      "    }\n",
      "   ],\n",
      "   \"source\": [\n",
      "    \"a= {}\\n\",\n",
      "    \"\\n\",\n",
      "    \"b={'apples':50, 'orange':25}\\n\",\n",
      "    \"\\n\",\n",
      "    \"c= dict(almond=200, walnut=100)\\n\",\n",
      "    \"print(a,b,c)\"\n",
      "   ]\n",
      "  },\n",
      "  {\n",
      "   \"cell_type\": \"code\",\n",
      "   \"execution_count\": 3,\n",
      "   \"metadata\": {},\n",
      "   \"outputs\": [\n",
      "    {\n",
      "     \"name\": \"stdout\",\n",
      "     \"output_type\": \"stream\",\n",
      "     \"text\": [\n",
      "      \"{'K1': {'k11': 5, 'k12': 10}, 'k2': {'k21': 15, 'k22': 20}}\\n\"\n",
      "     ]\n",
      "    }\n",
      "   ],\n",
      "   \"source\": [\n",
      "    \"d={\\\"K1\\\":{\\n\",\n",
      "    \"    \\\"k11\\\":5,\\n\",\n",
      "    \"    \\\"k12\\\":10 \\n\",\n",
      "    \"},\\n\",\n",
      "    \"\\\"k2\\\":{\\n\",\n",
      "    \"    \\\"k21\\\":15,\\n\",\n",
      "    \"    \\\"k22\\\":20\\n\",\n",
      "    \"}}\\n\",\n",
      "    \"print(d)\"\n",
      "   ]\n",
      "  },\n",
      "  {\n",
      "   \"cell_type\": \"code\",\n",
      "   \"execution_count\": 4,\n",
      "   \"metadata\": {},\n",
      "   \"outputs\": [\n",
      "    {\n",
      "     \"name\": \"stdout\",\n",
      "     \"output_type\": \"stream\",\n",
      "     \"text\": [\n",
      "      \"50\\n\",\n",
      "      \"50\\n\",\n",
      "      \"50\\n\",\n",
      "      \"50\\n\",\n",
      "      \"50\\n\"\n",
      "     ]\n",
      "    }\n",
      "   ],\n",
      "   \"source\": [\n",
      "    \"print(b['apples'])\\n\",\n",
      "    \"print(b.get('apples'))\\n\",\n",
      "    \"print(b.get('apples','not found'))  # default value\\n\",\n",
      "    \"print(b.get('apples'))\\n\",\n",
      "    \"print(b.get('apples','not found'))\"\n",
      "   ]\n",
      "  },\n",
      "  {\n",
      "   \"cell_type\": \"code\",\n",
      "   \"execution_count\": 5,\n",
      "   \"metadata\": {},\n",
      "   \"outputs\": [\n",
      "    {\n",
      "     \"name\": \"stdout\",\n",
      "     \"output_type\": \"stream\",\n",
      "     \"text\": [\n",
      "      \"{'apples': 50, 'orange': 25, 'mango': 10, 'dates': 5, 'peach': 10}\\n\"\n",
      "     ]\n",
      "    }\n",
      "   ],\n",
      "   \"source\": [\n",
      "    \"# add/update values\\n\",\n",
      "    \"\\n\",\n",
      "    \"b['mango']=10   # add\\n\",\n",
      "    \"b['dates']=5   #add\\n\",\n",
      "    \"b['peach']=10  #add\\n\",\n",
      "    \"b['apples']=50   #update (existing key used)\\n\",\n",
      "    \"print(b)\"\n",
      "   ]\n",
      "  },\n",
      "  {\n",
      "   \"cell_type\": \"code\",\n",
      "   \"execution_count\": 6,\n",
      "   \"metadata\": {},\n",
      "   \"outputs\": [\n",
      "    {\n",
      "     \"name\": \"stdout\",\n",
      "     \"output_type\": \"stream\",\n",
      "     \"text\": [\n",
      "      \"{'apples': 50, 'orange': 25, 'dates': 5, 'peach': 10}\\n\"\n",
      "     ]\n",
      "    }\n",
      "   ],\n",
      "   \"source\": [\n",
      "    \"#remove\\n\",\n",
      "    \"b.pop('mango')\\n\",\n",
      "    \"print(b)\"\n",
      "   ]\n",
      "  },\n",
      "  {\n",
      "   \"cell_type\": \"code\",\n",
      "   \"execution_count\": 11,\n",
      "   \"metadata\": {},\n",
      "   \"outputs\": [\n",
      "    {\n",
      "     \"name\": \"stdout\",\n",
      "     \"output_type\": \"stream\",\n",
      "     \"text\": [\n",
      "      \"apples 50\\n\",\n",
      "      \"orange 25\\n\",\n",
      "      \"dates 5\\n\",\n",
      "      \"peach 10\\n\",\n",
      "      \"apples 50\\n\",\n",
      "      \"orange 25\\n\",\n",
      "      \"dates 5\\n\",\n",
      "      \"peach 10\\n\",\n",
      "      \"50\\n\",\n",
      "      \"25\\n\",\n",
      "      \"5\\n\",\n",
      "      \"10\\n\"\n",
      "     ]\n",
      "    }\n",
      "   ],\n",
      "   \"source\": [\n",
      "    \"#traversal\\n\",\n",
      "    \"# style 1\\n\",\n",
      "    \"for key in b:\\n\",\n",
      "    \"    print(key,b[key])\\n\",\n",
      "    \"\\n\",\n",
      "    \"# style 2\\n\",\n",
      "    \"for k,v in b.items():\\n\",\n",
      "    \"    print(k,v)\\n\",\n",
      "    \"\\n\",\n",
      "    \"# style 3\\n\",\n",
      "    \"for v in b.values():\\n\",\n",
      "    \"    print(v)\"\n",
      "   ]\n",
      "  },\n",
      "  {\n",
      "   \"cell_type\": \"code\",\n",
      "   \"execution_count\": 12,\n",
      "   \"metadata\": {},\n",
      "   \"outputs\": [\n",
      "    {\n",
      "     \"data\": {\n",
      "      \"text/plain\": [\n",
      "       \"dict_keys(['apples', 'orange', 'dates', 'peach'])\"\n",
      "      ]\n",
      "     },\n",
      "     \"execution_count\": 12,\n",
      "     \"metadata\": {},\n",
      "     \"output_type\": \"execute_result\"\n",
      "    }\n",
      "   ],\n",
      "   \"source\": [\n",
      "    \"b.keys()\"\n",
      "   ]\n",
      "  },\n",
      "  {\n",
      "   \"cell_type\": \"code\",\n",
      "   \"execution_count\": null,\n",
      "   \"metadata\": {},\n",
      "   \"outputs\": [],\n",
      "   \"source\": []\n",
      "  }\n",
      " ],\n",
      " \"metadata\": {\n",
      "  \"kernelspec\": {\n",
      "   \"display_name\": \"base\",\n",
      "   \"language\": \"python\",\n",
      "   \"name\": \"python3\"\n",
      "  },\n",
      "  \"language_info\": {\n",
      "   \"codemirror_mode\": {\n",
      "    \"name\": \"ipython\",\n",
      "    \"version\": 3\n",
      "   },\n",
      "   \"file_extension\": \".py\",\n",
      "   \"mimetype\": \"text/x-python\",\n",
      "   \"name\": \"python\",\n",
      "   \"nbconvert_exporter\": \"python\",\n",
      "   \"pygments_lexer\": \"ipython3\",\n",
      "   \"version\": \"3.12.4\"\n",
      "  }\n",
      " },\n",
      " \"nbformat\": 4,\n",
      " \"nbformat_minor\": 2\n",
      "}\n",
      "\n"
     ]
    }
   ],
   "source": [
    "print(open('dictionary.ipynb').read())"
   ]
  },
  {
   "cell_type": "code",
   "execution_count": 5,
   "metadata": {},
   "outputs": [
    {
     "name": "stdout",
     "output_type": "stream",
     "text": [
      "print(\"hello 👻\")\n"
     ]
    }
   ],
   "source": [
    "with open(\"hello.py\") as file:\n",
    "    content = file.read()\n",
    "print(content)"
   ]
  },
  {
   "cell_type": "code",
   "execution_count": 6,
   "metadata": {},
   "outputs": [],
   "source": [
    "with open(\"story.txt\",\"w\") as f:\n",
    "    f.write(\"once upon a time\\n\")\n",
    "    f.write(\"there lived a king\\n\")\n",
    "    "
   ]
  },
  {
   "cell_type": "code",
   "execution_count": 9,
   "metadata": {},
   "outputs": [],
   "source": [
    "# a refere to append mode\n",
    "with open(\"story.txt\",\"a\") as f:\n",
    "    f.write(\" but he has a secret\")\n",
    "    f.write(\" he was a wizard\")\n"
   ]
  },
  {
   "cell_type": "code",
   "execution_count": 10,
   "metadata": {},
   "outputs": [
    {
     "name": "stdout",
     "output_type": "stream",
     "text": [
      "once upon a time\n",
      "there lived a king\n",
      " but he has a secrethe was a wizard but he has a secret he was a wizard\n"
     ]
    }
   ],
   "source": [
    "with open(\"story.txt\") as f:\n",
    "    content = f.read()\n",
    "    print(content)"
   ]
  },
  {
   "cell_type": "code",
   "execution_count": 11,
   "metadata": {},
   "outputs": [
    {
     "name": "stdout",
     "output_type": "stream",
     "text": [
      "6\n",
      "3\n",
      "3\n",
      "3\n",
      "9\n",
      "1\n",
      "8\n",
      "8\n",
      "8\n",
      "1\n"
     ]
    }
   ],
   "source": [
    "# python standard library\n",
    "import random\n",
    "\n",
    "for i in range(10):\n",
    "    ans = random.randint(1, 10)\n",
    "    print(ans)"
   ]
  },
  {
   "cell_type": "code",
   "execution_count": 12,
   "metadata": {},
   "outputs": [
    {
     "name": "stdout",
     "output_type": "stream",
     "text": [
      "apple\n",
      "apple\n",
      "apple\n",
      "banana\n",
      "apple\n",
      "banana\n",
      "cherry\n",
      "apple\n",
      "cherry\n",
      "banana\n"
     ]
    }
   ],
   "source": [
    "fruits =['apple','banana','cherry']\n",
    "for i in range(10):\n",
    "    print(random.choice(fruits))"
   ]
  },
  {
   "cell_type": "code",
   "execution_count": 16,
   "metadata": {},
   "outputs": [
    {
     "name": "stdout",
     "output_type": "stream",
     "text": [
      "[10, 6, 7]\n",
      "[8, 10, 2, 3, 4]\n",
      "[3, 10, 5, 4, 1, 7, 8, 6, 2, 9]\n"
     ]
    }
   ],
   "source": [
    "x=[1,2,3,4,5,6,7,8,9,10]\n",
    "print(random.choices(x,k=3))\n",
    "print(random.sample(x,k=5))\n",
    "random.shuffle(x)\n",
    "print(x)"
   ]
  },
  {
   "cell_type": "code",
   "execution_count": 17,
   "metadata": {},
   "outputs": [],
   "source": [
    "from datetime import datetime"
   ]
  },
  {
   "cell_type": "code",
   "execution_count": 26,
   "metadata": {},
   "outputs": [
    {
     "name": "stdout",
     "output_type": "stream",
     "text": [
      "2012-12-12 00:00:00\n",
      "1970-01-01 10:05:00\n",
      "2024-08-23 19:57:20.356467\n",
      "1724423240.356467\n",
      "2892-11-24 10:03:22\n",
      "2024-08-23 19:57:20.356467\n",
      "2024-12-01 19:57:20.356467\n",
      "2024-08-23\n",
      "19:57:20.356467\n",
      "23/08/2024\n",
      "19:57\n"
     ]
    }
   ],
   "source": [
    "# 12/12/2012\n",
    "doomsday = datetime(2012,12,12)\n",
    "print(doomsday)\n",
    "\n",
    "# 10:05\n",
    "time = datetime(1970,1,1,10,5)\n",
    "print(time)\n",
    "\n",
    "currday = datetime.now()\n",
    "print(currday)\n",
    "\n",
    "timestamp = datetime.timestamp(currday)\n",
    "print(timestamp) # seconds since epoch(1970)\n",
    "\n",
    "print(datetime.fromtimestamp(29123901202))\n",
    "\n",
    "from datetime import timedelta\n",
    "\n",
    "today = datetime.now()\n",
    "print(today)\n",
    "print(today + timedelta(days=100))\n",
    "\n",
    "# format title\n",
    "print(today.date())\n",
    "print(today.time())\n",
    "\n",
    "#strftime\n",
    "print(today.strftime(\"%d/%m/%Y\"))\n",
    "print(today.strftime(\"%H:%M\"))"
   ]
  },
  {
   "cell_type": "code",
   "execution_count": 27,
   "metadata": {},
   "outputs": [
    {
     "name": "stdout",
     "output_type": "stream",
     "text": [
      "c:\\Users\\SHWETA SINGH\\Documents\\data analyst\n"
     ]
    }
   ],
   "source": [
    "# os module\n",
    "import os\n",
    "BASE_DTR =os.getcwd()\n",
    "print(BASE_DTR)"
   ]
  },
  {
   "cell_type": "code",
   "execution_count": 28,
   "metadata": {},
   "outputs": [
    {
     "name": "stdout",
     "output_type": "stream",
     "text": [
      "['.git', 'basic.ipynb', 'control_flow.ipynb', 'dictionary.ipynb', 'functions.ipynb', 'hello.py', 'homework.ipynb', 'list.ipynb', 'registration.py', 'sets.ipynb', 'story.py', 'story.txt', 'strings.ipynb', 'tuple.ipynb']\n"
     ]
    }
   ],
   "source": [
    "print(os.listdir())"
   ]
  },
  {
   "cell_type": "code",
   "execution_count": null,
   "metadata": {},
   "outputs": [],
   "source": [
    "# delete file\n",
    "#os.unlink(\"story.txt\")\n",
    "#print(os.listdir())"
   ]
  },
  {
   "cell_type": "code",
   "execution_count": 30,
   "metadata": {},
   "outputs": [
    {
     "ename": "FileNotFoundError",
     "evalue": "[WinError 3] The system cannot find the path specified: 'c:/users/shailja/Downloads'",
     "output_type": "error",
     "traceback": [
      "\u001b[1;31m---------------------------------------------------------------------------\u001b[0m",
      "\u001b[1;31mFileNotFoundError\u001b[0m                         Traceback (most recent call last)",
      "Cell \u001b[1;32mIn[30], line 1\u001b[0m\n\u001b[1;32m----> 1\u001b[0m content\u001b[38;5;241m=\u001b[39m\u001b[43mos\u001b[49m\u001b[38;5;241;43m.\u001b[39;49m\u001b[43mlistdir\u001b[49m\u001b[43m(\u001b[49m\u001b[38;5;124;43m\"\u001b[39;49m\u001b[38;5;124;43mc:/users/shailja/Downloads\u001b[39;49m\u001b[38;5;124;43m\"\u001b[39;49m\u001b[43m)\u001b[49m\n\u001b[0;32m      2\u001b[0m \u001b[38;5;28mprint\u001b[39m(\u001b[38;5;124mf\u001b[39m\u001b[38;5;124m\"\u001b[39m\u001b[38;5;124mtotal content is \u001b[39m\u001b[38;5;132;01m{\u001b[39;00m\u001b[38;5;28mlen\u001b[39m(content)\u001b[38;5;132;01m}\u001b[39;00m\u001b[38;5;124m\"\u001b[39m)\n",
      "\u001b[1;31mFileNotFoundError\u001b[0m: [WinError 3] The system cannot find the path specified: 'c:/users/shailja/Downloads'"
     ]
    }
   ],
   "source": [
    "content=os.listdir(\"c:/users/shailja/Downloads\")\n",
    "print(f\"total content is {len(content)}\")"
   ]
  },
  {
   "cell_type": "code",
   "execution_count": 31,
   "metadata": {},
   "outputs": [],
   "source": [
    "for item in content:\n",
    "    os.path.isfile(item)"
   ]
  },
  {
   "cell_type": "code",
   "execution_count": 34,
   "metadata": {},
   "outputs": [
    {
     "name": "stdout",
     "output_type": "stream",
     "text": [
      "o                                                  False\n",
      "n                                                  False\n",
      "c                                                  False\n",
      "e                                                  False\n",
      "                                                   False\n",
      "u                                                  False\n",
      "p                                                  False\n",
      "o                                                  False\n",
      "n                                                  False\n",
      "                                                   False\n",
      "a                                                  False\n",
      "                                                   False\n",
      "t                                                  False\n",
      "i                                                  False\n",
      "m                                                  False\n",
      "e                                                  False\n",
      "\n",
      "                                                  False\n",
      "t                                                  False\n",
      "h                                                  False\n",
      "e                                                  False\n",
      "r                                                  False\n",
      "e                                                  False\n",
      "                                                   False\n",
      "l                                                  False\n",
      "i                                                  False\n",
      "v                                                  False\n",
      "e                                                  False\n",
      "d                                                  False\n",
      "                                                   False\n",
      "a                                                  False\n",
      "                                                   False\n",
      "k                                                  False\n",
      "i                                                  False\n",
      "n                                                  False\n",
      "g                                                  False\n",
      "\n",
      "                                                  False\n",
      "                                                   False\n",
      "b                                                  False\n",
      "u                                                  False\n",
      "t                                                  False\n",
      "                                                   False\n",
      "h                                                  False\n",
      "e                                                  False\n",
      "                                                   False\n",
      "h                                                  False\n",
      "a                                                  False\n",
      "s                                                  False\n",
      "                                                   False\n",
      "a                                                  False\n",
      "                                                   False\n",
      "s                                                  False\n",
      "e                                                  False\n",
      "c                                                  False\n",
      "r                                                  False\n",
      "e                                                  False\n",
      "t                                                  False\n",
      "h                                                  False\n",
      "e                                                  False\n",
      "                                                   False\n",
      "w                                                  False\n",
      "a                                                  False\n",
      "s                                                  False\n",
      "                                                   False\n",
      "a                                                  False\n",
      "                                                   False\n",
      "w                                                  False\n",
      "i                                                  False\n",
      "z                                                  False\n",
      "a                                                  False\n",
      "r                                                  False\n",
      "d                                                  False\n",
      "                                                   False\n",
      "b                                                  False\n",
      "u                                                  False\n",
      "t                                                  False\n",
      "                                                   False\n",
      "h                                                  False\n",
      "e                                                  False\n",
      "                                                   False\n",
      "h                                                  False\n",
      "a                                                  False\n",
      "s                                                  False\n",
      "                                                   False\n",
      "a                                                  False\n",
      "                                                   False\n",
      "s                                                  False\n",
      "e                                                  False\n",
      "c                                                  False\n",
      "r                                                  False\n",
      "e                                                  False\n",
      "t                                                  False\n",
      "                                                   False\n",
      "h                                                  False\n",
      "e                                                  False\n",
      "                                                   False\n",
      "w                                                  False\n",
      "a                                                  False\n",
      "s                                                  False\n",
      "                                                   False\n",
      "a                                                  False\n",
      "                                                   False\n",
      "w                                                  False\n",
      "i                                                  False\n",
      "z                                                  False\n",
      "a                                                  False\n",
      "r                                                  False\n",
      "d                                                  False\n"
     ]
    }
   ],
   "source": [
    "for item in content:\n",
    "    path =\"c:/users/shailja/Downloads/\"+item\n",
    "    print(item.ljust(50),os.path.isfile(path))"
   ]
  },
  {
   "cell_type": "code",
   "execution_count": 33,
   "metadata": {},
   "outputs": [
    {
     "name": "stdout",
     "output_type": "stream",
     "text": [
      "path doesnot exists\n"
     ]
    }
   ],
   "source": [
    "address = \"c:/users/abc/pictures\"\n",
    "if os.path.exists(address):\n",
    "    print(\"path exixts\")\n",
    "else:\n",
    "    print(\"path doesnot exists\")"
   ]
  },
  {
   "cell_type": "code",
   "execution_count": 35,
   "metadata": {},
   "outputs": [
    {
     "ename": "FileNotFoundError",
     "evalue": "[WinError 3] The system cannot find the path specified: 'c:/programs files'",
     "output_type": "error",
     "traceback": [
      "\u001b[1;31m---------------------------------------------------------------------------\u001b[0m",
      "\u001b[1;31mFileNotFoundError\u001b[0m                         Traceback (most recent call last)",
      "Cell \u001b[1;32mIn[35], line 1\u001b[0m\n\u001b[1;32m----> 1\u001b[0m content\u001b[38;5;241m=\u001b[39m\u001b[43mos\u001b[49m\u001b[38;5;241;43m.\u001b[39;49m\u001b[43mlistdir\u001b[49m\u001b[43m(\u001b[49m\u001b[38;5;124;43m\"\u001b[39;49m\u001b[38;5;124;43mc:/programs files\u001b[39;49m\u001b[38;5;124;43m\"\u001b[39;49m\u001b[43m)\u001b[49m\n\u001b[0;32m      2\u001b[0m \u001b[38;5;28mprint\u001b[39m(\u001b[38;5;124mf\u001b[39m\u001b[38;5;124m\"\u001b[39m\u001b[38;5;124mtotal content is \u001b[39m\u001b[38;5;132;01m{\u001b[39;00m\u001b[38;5;28mlen\u001b[39m(content)\u001b[38;5;132;01m}\u001b[39;00m\u001b[38;5;124m\"\u001b[39m)\n",
      "\u001b[1;31mFileNotFoundError\u001b[0m: [WinError 3] The system cannot find the path specified: 'c:/programs files'"
     ]
    }
   ],
   "source": [
    "content=os.listdir(\"c:/programs files\")\n",
    "print(f\"total content is {len(content)}\")"
   ]
  },
  {
   "cell_type": "code",
   "execution_count": 39,
   "metadata": {},
   "outputs": [],
   "source": [
    "if not os.path.exists(\"folder1\"):\n",
    "    os.mkdir(\"floder1\")"
   ]
  },
  {
   "cell_type": "code",
   "execution_count": 41,
   "metadata": {},
   "outputs": [],
   "source": [
    "os.makedirs(\"folder1/folder2/folder3\",exist_ok =True)"
   ]
  },
  {
   "cell_type": "code",
   "execution_count": 42,
   "metadata": {},
   "outputs": [
    {
     "ename": "FileNotFoundError",
     "evalue": "[WinError 3] The system cannot find the path specified: 'c:/users/shailja/Downloadso'",
     "output_type": "error",
     "traceback": [
      "\u001b[1;31m---------------------------------------------------------------------------\u001b[0m",
      "\u001b[1;31mFileNotFoundError\u001b[0m                         Traceback (most recent call last)",
      "Cell \u001b[1;32mIn[42], line 3\u001b[0m\n\u001b[0;32m      1\u001b[0m \u001b[38;5;28;01mfor\u001b[39;00m item \u001b[38;5;129;01min\u001b[39;00m content:\n\u001b[0;32m      2\u001b[0m     path \u001b[38;5;241m=\u001b[39m \u001b[38;5;124m\"\u001b[39m\u001b[38;5;124mc:/users/shailja/Downloads\u001b[39m\u001b[38;5;124m\"\u001b[39m\u001b[38;5;241m+\u001b[39mitem\n\u001b[1;32m----> 3\u001b[0m     size \u001b[38;5;241m=\u001b[39m \u001b[43mos\u001b[49m\u001b[38;5;241;43m.\u001b[39;49m\u001b[43mpath\u001b[49m\u001b[38;5;241;43m.\u001b[39;49m\u001b[43mgetsize\u001b[49m\u001b[43m(\u001b[49m\u001b[43mpath\u001b[49m\u001b[43m)\u001b[49m\u001b[38;5;241m/\u001b[39m\u001b[38;5;241m1024\u001b[39m \u001b[38;5;66;03m# kilobytes\u001b[39;00m\n\u001b[0;32m      4\u001b[0m     \u001b[38;5;28mprint\u001b[39m(item[:\u001b[38;5;241m49\u001b[39m]\u001b[38;5;241m.\u001b[39mljust(\u001b[38;5;241m50\u001b[39m),\u001b[38;5;28mstr\u001b[39m(os\u001b[38;5;241m.\u001b[39mpath\u001b[38;5;241m.\u001b[39misfile(path))\u001b[38;5;241m.\u001b[39mljust(\u001b[38;5;241m10\u001b[39m),size)\n",
      "File \u001b[1;32m<frozen genericpath>:62\u001b[0m, in \u001b[0;36mgetsize\u001b[1;34m(filename)\u001b[0m\n",
      "\u001b[1;31mFileNotFoundError\u001b[0m: [WinError 3] The system cannot find the path specified: 'c:/users/shailja/Downloadso'"
     ]
    }
   ],
   "source": [
    "for item in content:\n",
    "    path = \"c:/users/shailja/Downloads\"+item\n",
    "    size = os.path.getsize(path)/1024 # kilobytes\n",
    "    print(item[:49].ljust(50),str(os.path.isfile(path)).ljust(10),size)"
   ]
  },
  {
   "cell_type": "code",
   "execution_count": null,
   "metadata": {},
   "outputs": [],
   "source": []
  }
 ],
 "metadata": {
  "kernelspec": {
   "display_name": "base",
   "language": "python",
   "name": "python3"
  },
  "language_info": {
   "codemirror_mode": {
    "name": "ipython",
    "version": 3
   },
   "file_extension": ".py",
   "mimetype": "text/x-python",
   "name": "python",
   "nbconvert_exporter": "python",
   "pygments_lexer": "ipython3",
   "version": "3.12.4"
  }
 },
 "nbformat": 4,
 "nbformat_minor": 2
}
