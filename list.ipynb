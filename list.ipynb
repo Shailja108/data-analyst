{
 "cells": [
  {
   "cell_type": "markdown",
   "metadata": {},
   "source": [
    "Data Structure - list\n",
    "\n",
    "1. creating\n",
    "2. indexing and slicing (same as string)\n",
    "3. method -11 methods|\n",
    "4. list comprehension"
   ]
  },
  {
   "cell_type": "code",
   "execution_count": 1,
   "metadata": {},
   "outputs": [],
   "source": [
    "x= []\n",
    "num_list = [1,2,3,4]\n",
    "word_list = ['this', 'of','that']\n",
    "bool_list =[True, False,True]\n",
    "mixed_list = [1,2,'three',False]\n",
    "nested_list =[[1,2,3],[4,5,6]]\n"
   ]
  },
  {
   "cell_type": "code",
   "execution_count": 3,
   "metadata": {},
   "outputs": [
    {
     "name": "stdout",
     "output_type": "stream",
     "text": [
      "[1, 4, 7, 10, 13]\n",
      "[[1, 2, 3], [1, 3, 2], [3, 2, 1]]\n",
      "[1, 1, 1, 1, 1, 1, 1, 1, 1, 1]\n"
     ]
    }
   ],
   "source": [
    "y= list(range(1,16,3))\n",
    "print(y)\n",
    "a=[1,2,3]\n",
    "b=[1,3,2]\n",
    "c=[3,2,1]\n",
    "mat =[a,b,c]\n",
    "print(mat)\n",
    "\n",
    "z=[1]*10\n",
    "print(z)"
   ]
  },
  {
   "cell_type": "markdown",
   "metadata": {},
   "source": [
    "Rules for list\n",
    "1. indexed\n",
    "2. ordered\n",
    "3. mutable\n",
    "4. heterogenous datatype\n",
    "5. can have duplicate values\n",
    "6. represented with `[]`\n",
    "7. `list()` can used to cast other datastructure to a list"
   ]
  },
  {
   "cell_type": "code",
   "execution_count": 4,
   "metadata": {},
   "outputs": [
    {
     "name": "stdout",
     "output_type": "stream",
     "text": [
      "13\n"
     ]
    }
   ],
   "source": [
    "names= ['shiv','rahul','nitesh','ajay','atul','shalu','riya','kirti','isha','shailja','savri','satwik','ritesh']\n",
    "print(len(names))"
   ]
  },
  {
   "cell_type": "code",
   "execution_count": 6,
   "metadata": {},
   "outputs": [
    {
     "name": "stdout",
     "output_type": "stream",
     "text": [
      "shiv\n",
      "ritesh\n",
      "shalu\n",
      "ajay\n",
      "savri\n"
     ]
    }
   ],
   "source": [
    "print(names[0])\n",
    "print(names[-1])\n",
    "print(names[5])\n",
    "print(names[3])\n",
    "print(names[10])"
   ]
  },
  {
   "cell_type": "code",
   "execution_count": 8,
   "metadata": {},
   "outputs": [
    {
     "name": "stdout",
     "output_type": "stream",
     "text": [
      "['shiv', 'rahul', 'nitesh', 'ajay', 'atul']\n",
      "['isha', 'shailja', 'savri', 'satwik', 'ritesh']\n",
      "['nitesh', 'ajay', 'atul', 'shalu', 'riya', 'kirti', 'isha', 'shailja', 'savri']\n",
      "['ritesh', 'satwik', 'savri', 'shailja', 'isha', 'kirti', 'riya', 'shalu', 'atul', 'ajay', 'nitesh', 'rahul', 'shiv']\n",
      "['shiv', 'nitesh', 'atul', 'riya', 'isha', 'savri', 'ritesh']\n",
      "['rahul', 'ajay', 'shalu', 'kirti', 'shailja', 'satwik']\n"
     ]
    }
   ],
   "source": [
    "# slicing\n",
    "print(names[:5])\n",
    "print(names[-5:])\n",
    "print(names[2:-2])\n",
    "print(names[::-1])\n",
    "print(names[::2])\n",
    "print(names[1::2])"
   ]
  },
  {
   "cell_type": "code",
   "execution_count": 7,
   "metadata": {},
   "outputs": [
    {
     "name": "stdout",
     "output_type": "stream",
     "text": [
      "['ritesh', 'satwik', 'savri', 'shailja', 'isha', 'kirti', 'riya', 'shalu', 'atul', 'ajay', 'nitesh', 'rahul', 'shiv']\n",
      "['shiv', 'nitesh', 'atul', 'riya', 'isha', 'savri', 'ritesh']\n",
      "['rahul', 'ajay', 'shalu', 'kirti', 'shailja', 'satwik']\n"
     ]
    }
   ],
   "source": [
    "print(names[::-1])      # reverse\n",
    "print(names[::2])       #even students\n",
    "print(names[1::2])      #odd students"
   ]
  },
  {
   "cell_type": "code",
   "execution_count": 17,
   "metadata": {},
   "outputs": [
    {
     "name": "stdout",
     "output_type": "stream",
     "text": [
      "vihs-luhar-hsetin-yaja-luta-ulahs-ayir-itrik-ahsi-ajliahs-irvas-kiwtas-hsetir-"
     ]
    }
   ],
   "source": [
    "for i in names:\n",
    "    print(i[::-1],end='-')"
   ]
  },
  {
   "cell_type": "markdown",
   "metadata": {},
   "source": [
    "list methods\n",
    "\n",
    "- add\n",
    "    - append\n",
    "    - extend\n",
    "    - insert\n",
    "\n",
    "- remove\n",
    "    - remove\n",
    "    - pop\n",
    "    - clear\n",
    "\n",
    "- utlity\n",
    "    - reverse\n",
    "    - sort\n",
    "    - count\n",
    "    - index\n",
    "    - copy"
   ]
  },
  {
   "cell_type": "code",
   "execution_count": 24,
   "metadata": {},
   "outputs": [],
   "source": [
    "fruits =['apple','banana','cherry','dragonfruit','elderberry','fig']\n"
   ]
  },
  {
   "cell_type": "code",
   "execution_count": 25,
   "metadata": {},
   "outputs": [
    {
     "name": "stdout",
     "output_type": "stream",
     "text": [
      "['apple', 'banana', 'cherry', 'dragonfruit', 'elderberry', 'fig', 'gauva']\n"
     ]
    }
   ],
   "source": [
    "fruits.append('gauva')\n",
    "print(fruits)"
   ]
  },
  {
   "cell_type": "code",
   "execution_count": 28,
   "metadata": {},
   "outputs": [
    {
     "name": "stdout",
     "output_type": "stream",
     "text": [
      "['apple', 'banana', 'cherry', 'dragonfruit', 'elderberry', 'fig', 'gauva', 'hazelnut', 'jackfruit', 'hazelnut', 'jackfruit']\n"
     ]
    }
   ],
   "source": [
    "fruits.append('hazelnut')\n",
    "fruits.append('jackfruit')\n",
    "print(fruits)"
   ]
  },
  {
   "cell_type": "code",
   "execution_count": 29,
   "metadata": {},
   "outputs": [
    {
     "name": "stdout",
     "output_type": "stream",
     "text": [
      "['apple', 'banana', 'cherry', 'dragonfruit', 'elderberry', 'fig', 'gauva', 'hazelnut', 'jackfruit', 'hazelnut', 'jackfruit', 1, 2, 3]\n"
     ]
    }
   ],
   "source": [
    "fruits.extend([1,2,3])\n",
    "print(fruits)"
   ]
  },
  {
   "cell_type": "code",
   "execution_count": 30,
   "metadata": {},
   "outputs": [
    {
     "name": "stdout",
     "output_type": "stream",
     "text": [
      "['apple', 'banana', 'cherry', 'dragonfruit', 'elderberry', 'fig', 'gauva', 'hazelnut', 'jackfruit', 'hazelnut', 'jackfruit', 1, 2, 3, [1, 2, 3]]\n"
     ]
    }
   ],
   "source": [
    "fruits.append([1,2,3])\n",
    "print(fruits)"
   ]
  },
  {
   "cell_type": "code",
   "execution_count": 49,
   "metadata": {},
   "outputs": [
    {
     "name": "stdout",
     "output_type": "stream",
     "text": [
      "[11, 12, 13, 15, 18, 20]\n"
     ]
    }
   ],
   "source": [
    "x=[11,12,14,15,18,20]\n",
    "#replace value 14 by 13\n",
    "x[2]=13\n",
    "print(x)"
   ]
  },
  {
   "cell_type": "code",
   "execution_count": 37,
   "metadata": {},
   "outputs": [
    {
     "name": "stdout",
     "output_type": "stream",
     "text": [
      "[11, 12, 13, 14, 15, 18, 20]\n"
     ]
    }
   ],
   "source": [
    "x.insert(3,14)\n",
    "print(x)"
   ]
  },
  {
   "cell_type": "code",
   "execution_count": 38,
   "metadata": {},
   "outputs": [
    {
     "name": "stdout",
     "output_type": "stream",
     "text": [
      "[11, 12, 13, 14, 15, 16, 18, 20]\n"
     ]
    }
   ],
   "source": [
    "x.insert(5,16)\n",
    "print(x)"
   ]
  },
  {
   "cell_type": "code",
   "execution_count": 47,
   "metadata": {},
   "outputs": [
    {
     "name": "stdout",
     "output_type": "stream",
     "text": [
      "[11, 12, 13, 15, 18, 17, 17]\n"
     ]
    }
   ],
   "source": [
    "x.insert(6,17)\n",
    "print(x)"
   ]
  },
  {
   "cell_type": "code",
   "execution_count": 50,
   "metadata": {},
   "outputs": [
    {
     "name": "stdout",
     "output_type": "stream",
     "text": [
      "[11, 12, 13, 15, 18]\n"
     ]
    }
   ],
   "source": [
    "x.remove(20)\n",
    "print(x)"
   ]
  },
  {
   "cell_type": "code",
   "execution_count": 51,
   "metadata": {},
   "outputs": [
    {
     "name": "stdout",
     "output_type": "stream",
     "text": [
      "[1, 1, 1, 2, 2]\n",
      "[1, 1, 2]\n"
     ]
    }
   ],
   "source": [
    "x=[1,1,1,2,2]\n",
    "print(x)\n",
    "x.remove(1)\n",
    "x.remove(2)\n",
    "print(x)"
   ]
  },
  {
   "cell_type": "code",
   "execution_count": 52,
   "metadata": {},
   "outputs": [
    {
     "name": "stdout",
     "output_type": "stream",
     "text": [
      "[1, 1, 2, 3, 4]\n"
     ]
    }
   ],
   "source": [
    "x=[1,1,2,3,4,5]\n",
    "if 5 in x:\n",
    "    x.remove(5)\n",
    "if 6 in x:\n",
    "    x.remove(6)\n",
    "print(x)"
   ]
  },
  {
   "cell_type": "code",
   "execution_count": 53,
   "metadata": {},
   "outputs": [
    {
     "name": "stdout",
     "output_type": "stream",
     "text": [
      "[11, 12, 13, 14, 15]\n",
      "[11, 12, 14, 15]\n"
     ]
    }
   ],
   "source": [
    "x=[11,12,13,14,15,16]\n",
    "x.pop()\n",
    "print(x)\n",
    "x.pop(2)\n",
    "print(x)\n"
   ]
  },
  {
   "cell_type": "code",
   "execution_count": 54,
   "metadata": {},
   "outputs": [
    {
     "name": "stdout",
     "output_type": "stream",
     "text": [
      "[11, 12, 14]\n",
      "15\n"
     ]
    }
   ],
   "source": [
    "item =x.pop()\n",
    "print(x)\n",
    "print(item)"
   ]
  },
  {
   "cell_type": "code",
   "execution_count": 55,
   "metadata": {},
   "outputs": [
    {
     "name": "stdout",
     "output_type": "stream",
     "text": [
      "[]\n"
     ]
    }
   ],
   "source": [
    "x.clear()\n",
    "print(x)"
   ]
  },
  {
   "cell_type": "code",
   "execution_count": 56,
   "metadata": {},
   "outputs": [
    {
     "name": "stdout",
     "output_type": "stream",
     "text": [
      "[]\n"
     ]
    }
   ],
   "source": [
    "names.clear()\n",
    "print(names)"
   ]
  },
  {
   "cell_type": "code",
   "execution_count": 57,
   "metadata": {},
   "outputs": [
    {
     "name": "stdout",
     "output_type": "stream",
     "text": [
      "[[1, 2, 3], 3, 2, 1, 'jackfruit', 'hazelnut', 'jackfruit', 'hazelnut', 'gauva', 'fig', 'elderberry', 'dragonfruit', 'cherry', 'banana', 'apple']\n"
     ]
    }
   ],
   "source": [
    "fruits.reverse()\n",
    "print(fruits)"
   ]
  },
  {
   "cell_type": "code",
   "execution_count": 59,
   "metadata": {},
   "outputs": [
    {
     "name": "stdout",
     "output_type": "stream",
     "text": [
      "ascending [12, 34, 43, 55, 64, 123]\n",
      "descending [123, 64, 55, 43, 34, 12]\n"
     ]
    }
   ],
   "source": [
    "nums=[12,123,34,55,64,43]\n",
    "nums.sort()\n",
    "print('ascending',nums)\n",
    "nums.sort(reverse=True)\n",
    "print('descending',nums)"
   ]
  },
  {
   "cell_type": "code",
   "execution_count": 68,
   "metadata": {},
   "outputs": [
    {
     "name": "stdout",
     "output_type": "stream",
     "text": [
      "0\n",
      "1\n",
      "3\n"
     ]
    }
   ],
   "source": [
    "x = [12,24,43,54,88,43,11,11,11]\n",
    "print(x.count(1))\n",
    "print(x.count(12))\n",
    "print(x.count(11))"
   ]
  },
  {
   "cell_type": "code",
   "execution_count": 62,
   "metadata": {},
   "outputs": [
    {
     "name": "stdout",
     "output_type": "stream",
     "text": [
      "[[1, 2, 3], 3, 2, 1, 'jackfruit', 'hazelnut', 'jackfruit', 'hazelnut', 'gauva', 'fig', 'elderberry', 'dragonfruit', 'cherry', 'banana', 'apple']\n",
      "gauva-> 8\n",
      "banana-> 13\n"
     ]
    }
   ],
   "source": [
    "print(fruits)\n",
    "print('gauva->',fruits.index('gauva'))\n",
    "print('banana->',fruits.index('banana'))"
   ]
  },
  {
   "cell_type": "code",
   "execution_count": 67,
   "metadata": {},
   "outputs": [
    {
     "name": "stdout",
     "output_type": "stream",
     "text": [
      "[1, 2, 3]\n",
      "True\n",
      "[1, 2, 3]\n",
      "False\n"
     ]
    }
   ],
   "source": [
    "x=[1,2,3]\n",
    "y=x\n",
    "print(x)\n",
    "print(y is x)\n",
    "z=x.copy()\n",
    "print(z)\n",
    "print(z is x)"
   ]
  },
  {
   "cell_type": "code",
   "execution_count": 2,
   "metadata": {},
   "outputs": [
    {
     "name": "stdout",
     "output_type": "stream",
     "text": [
      "[1, 4, 9, 16]\n"
     ]
    }
   ],
   "source": [
    "# comprehension\n",
    "x= [1,2,3,4]\n",
    "x2=[]\n",
    "for i in x:\n",
    "    s=i**2\n",
    "    x2.append(s)\n",
    "print(x2)"
   ]
  },
  {
   "cell_type": "code",
   "execution_count": 3,
   "metadata": {},
   "outputs": [
    {
     "name": "stdout",
     "output_type": "stream",
     "text": [
      "[11, 12, 13, 14]\n"
     ]
    }
   ],
   "source": [
    "# list comprehension\n",
    "x2= [i+10 for i in x]\n",
    "print(x2)"
   ]
  },
  {
   "cell_type": "code",
   "execution_count": 4,
   "metadata": {},
   "outputs": [
    {
     "name": "stdout",
     "output_type": "stream",
     "text": [
      "[36, 100, 400, 4]\n"
     ]
    }
   ],
   "source": [
    "# comprehension with condition (newlist)-[operation loop condition]\n",
    "x= [1,3,6,7,10,20,2]\n",
    "x2= [i**2 for i in x if i%2==0]\n",
    "print(x2)"
   ]
  },
  {
   "cell_type": "code",
   "execution_count": 5,
   "metadata": {},
   "outputs": [
    {
     "name": "stdout",
     "output_type": "stream",
     "text": [
      "[0, 1, 2, 3, 4, 5, 6, 7, 8, 9, 10, 11, 12, 13, 14, 15, 16, 17, 18, 19, 20, 21, 22, 23, 24, 25, 26, 27, 28, 29, 30, 31, 32, 33, 34, 35, 36, 37, 38, 39, 40, 41, 42, 43, 44, 45, 46, 47, 48, 49]\n",
      "[0, 4, 16, 36, 64, 100, 144, 196, 256, 324, 400, 484, 576, 676, 784, 900, 1024, 1156, 1296, 1444, 1600, 1764, 1936, 2116, 2304]\n"
     ]
    }
   ],
   "source": [
    "x= list(range(50))\n",
    "x2=[i**2 for i in x if i%2==0]\n",
    "print(x)\n",
    "print(x2)"
   ]
  },
  {
   "cell_type": "code",
   "execution_count": 6,
   "metadata": {},
   "outputs": [
    {
     "name": "stdout",
     "output_type": "stream",
     "text": [
      "['Sk', 'Ms', 'Sv', 'Nn', 'At', 'Rh', 'Ps', 'Fm', 'Ea', 'Sn']\n"
     ]
    }
   ],
   "source": [
    "names=[\"Satwik\",\"Manas\",\"Shiv\",\"Naman\",\"Arpit\",\"Ritesh\",\"Paras\",\"Faheem\",\"Esha\",\"Sachin\"]\n",
    "x=[]\n",
    "for i in names:\n",
    "    m=i[0]+i[-1]\n",
    "    x.append(m)\n",
    "print(x)"
   ]
  },
  {
   "cell_type": "code",
   "execution_count": 7,
   "metadata": {},
   "outputs": [
    {
     "name": "stdout",
     "output_type": "stream",
     "text": [
      "['sk', 'ms', 'sv', 'nn', 'at', 'rh', 'ps', 'fm', 'ea', 'sn']\n"
     ]
    }
   ],
   "source": [
    "names=[\"Satwik\",\"Manas\",\"Shiv\",\"Naman\",\"Arpit\",\"Ritesh\",\"Paras\",\"Faheem\",\"Esha\",\"Sachin\"]\n",
    "output=[(i[0]+i[-1]).lower() for i in names]\n",
    "print(output)"
   ]
  },
  {
   "cell_type": "code",
   "execution_count": null,
   "metadata": {},
   "outputs": [],
   "source": []
  }
 ],
 "metadata": {
  "kernelspec": {
   "display_name": "base",
   "language": "python",
   "name": "python3"
  },
  "language_info": {
   "codemirror_mode": {
    "name": "ipython",
    "version": 3
   },
   "file_extension": ".py",
   "mimetype": "text/x-python",
   "name": "python",
   "nbconvert_exporter": "python",
   "pygments_lexer": "ipython3",
   "version": "3.12.4"
  }
 },
 "nbformat": 4,
 "nbformat_minor": 2
}
